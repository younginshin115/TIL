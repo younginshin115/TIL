{
 "cells": [
  {
   "cell_type": "markdown",
   "source": [
    "# 프린터"
   ],
   "metadata": {}
  },
  {
   "cell_type": "code",
   "execution_count": 51,
   "source": [
    "def solution(priorities, location):\r\n",
    "    answer = 0\r\n",
    "    for i in range(len(priorities)):\r\n",
    "        if i == location:\r\n",
    "            priorities[i] = str(priorities[i])+\"*\"\r\n",
    "        else:\r\n",
    "            priorities[i] = str(priorities[i])+\"#\"\r\n",
    "    while priorities:\r\n",
    "        if int(priorities[0][:1]) != max([int(priorities[i][:1]) for i in range(len(priorities))]):\r\n",
    "            priorities.append(priorities[0])\r\n",
    "            del priorities[0]\r\n",
    "        else: \r\n",
    "            answer += 1\r\n",
    "            if priorities[0][1:] == \"*\":\r\n",
    "                return answer\r\n",
    "            del priorities[0]\r\n",
    "    return answer\r\n",
    "\r\n",
    "solution([1, 1, 9, 1, 1, 1], 0)\r\n",
    "# solution([2, 1, 3, 2], 2)\r\n",
    "\r\n",
    "# enumerate랑 zip을 같이 썼으면 더 좋았겠다 아쉽다"
   ],
   "outputs": [
    {
     "output_type": "execute_result",
     "data": {
      "text/plain": [
       "4"
      ]
     },
     "metadata": {},
     "execution_count": 51
    }
   ],
   "metadata": {}
  },
  {
   "cell_type": "markdown",
   "source": [
    "# 더 맵게"
   ],
   "metadata": {}
  },
  {
   "cell_type": "code",
   "execution_count": 12,
   "source": [
    "import heapq\r\n",
    "\r\n",
    "def solution(scoville, K):\r\n",
    "    answer = 0\r\n",
    "    \r\n",
    "    heapq.heapify(scoville)\r\n",
    "    \r\n",
    "    if scoville[-1] == 0 and K != 0:\r\n",
    "        return -1\r\n",
    "    \r\n",
    "    while scoville[0] < K:\r\n",
    "        if len(scoville) <= 1:\r\n",
    "            return -1\r\n",
    "        \r\n",
    "        a = heapq.heappop(scoville)\r\n",
    "        b = heapq.heappop(scoville)\r\n",
    "        heapq.heappush(scoville, a + b * 2)\r\n",
    "        print(scoville)\r\n",
    "        answer += 1\r\n",
    "        \r\n",
    "    return answer\r\n",
    "\r\n",
    "solution([1, 2, 3, 9, 10, 12], 7)"
   ],
   "outputs": [
    {
     "output_type": "stream",
     "name": "stdout",
     "text": [
      "[3, 5, 10, 12, 9]\n",
      "[9, 12, 10, 13]\n"
     ]
    },
    {
     "output_type": "execute_result",
     "data": {
      "text/plain": [
       "2"
      ]
     },
     "metadata": {},
     "execution_count": 12
    }
   ],
   "metadata": {}
  },
  {
   "cell_type": "markdown",
   "source": [
    "# 기능개발"
   ],
   "metadata": {}
  },
  {
   "cell_type": "code",
   "execution_count": 34,
   "source": [
    "# 배치 여러개가 동시에 나갈때가 구분되었기 때문에 <를 <=로 수정해서 해결\r\n",
    "\r\n",
    "def solution(progresses, speeds):\r\n",
    "    answer = []\r\n",
    "    \r\n",
    "    remaining_days = []\r\n",
    "    for (x, y) in zip(progresses, speeds):\r\n",
    "        remaining_days.append(int((100 - x) / y) if (100 - x) % y == 0 else ((100 - x) // y) + 1)\r\n",
    "    \r\n",
    "    batch = []\r\n",
    "    for i in range(len(remaining_days)):\r\n",
    "        if i == 0:\r\n",
    "            batch.append(remaining_days[i])\r\n",
    "        elif i != 0 and remaining_days[i] <= max(batch):\r\n",
    "            batch.append(remaining_days[i])\r\n",
    "        else:\r\n",
    "            answer.append(len(batch))\r\n",
    "            batch = []\r\n",
    "            batch.append(remaining_days[i])\r\n",
    "    answer.append(len(batch))\r\n",
    "    return answer\r\n",
    "\r\n",
    "progresses = [2, 2, 1, 2]\r\n",
    "speeds = [1, 1, 1, 1]\r\n",
    "# progresses = [95, 90, 99, 99, 80, 99]\r\n",
    "# speeds = [1, 1, 1, 1, 1, 1]\r\n",
    "\r\n",
    "solution(progresses, speeds)"
   ],
   "outputs": [
    {
     "output_type": "execute_result",
     "data": {
      "text/plain": [
       "[2, 2]"
      ]
     },
     "metadata": {},
     "execution_count": 34
    }
   ],
   "metadata": {}
  },
  {
   "cell_type": "markdown",
   "source": [
    "# 문자열 압축"
   ],
   "metadata": {}
  },
  {
   "cell_type": "code",
   "execution_count": 6,
   "source": [
    "ddef solution(s):\r\n",
    "    answer = 0\r\n",
    "    def slice_num(string, num):\r\n",
    "        slice_lst = []\r\n",
    "        slice_num = 0\r\n",
    "        x, y = divmod(len(string), num)\r\n",
    "        for i in range(0, x if y == 0 else x + 1):\r\n",
    "            slice_lst.append(string[num*i:num*(i+1)])\r\n",
    "\r\n",
    "        tmp_num = 1\r\n",
    "        tmp_lst = []\r\n",
    "        for i in range(0, len(slice_lst)):\r\n",
    "            if i == len(slice_lst)-1:\r\n",
    "                if slice_lst[i] == slice_lst[i-1]:\r\n",
    "                    s = str(tmp_num) + slice_lst[i]\r\n",
    "                    tmp_lst.append(s)\r\n",
    "                else:\r\n",
    "                    tmp_lst.append(slice_lst[i])\r\n",
    "            else:\r\n",
    "                if slice_lst[i] == slice_lst[i+1]:\r\n",
    "                    tmp_num += 1\r\n",
    "                else:\r\n",
    "                    if tmp_num == 1:\r\n",
    "                        s = slice_lst[i]\r\n",
    "                    else:\r\n",
    "                        s = str(tmp_num)+slice_lst[i]\r\n",
    "                    tmp_lst.append(s)\r\n",
    "                    tmp_num = 1\r\n",
    "        return len(\"\".join(tmp_lst))\r\n",
    "    \r\n",
    "    total_num_lst = []\r\n",
    "    if len(s) == 1:\r\n",
    "        answer = 1\r\n",
    "    else:\r\n",
    "        for i in range(1, len(s)):\r\n",
    "            total_num_lst.append(slice_num(s, i))\r\n",
    "        answer = min(total_num_lst)\r\n",
    "    return answer\r\n",
    "\r\n",
    "a = \"aabbaccc\"\r\n",
    "b = \"ababcdcdababcdcd\"\r\n",
    "c = \"abcabcdede\"\r\n",
    "d = \"abcabcabcabcdededededede\"\r\n",
    "e = \"xababcdcdababcdcd\"\r\n",
    "f = \"a\"\r\n",
    "solution(a)"
   ],
   "outputs": [
    {
     "output_type": "stream",
     "name": "stdout",
     "text": [
      "[7, 8, 8, 8, 8, 8, 8]\n"
     ]
    },
    {
     "output_type": "execute_result",
     "data": {
      "text/plain": [
       "7"
      ]
     },
     "metadata": {},
     "execution_count": 6
    }
   ],
   "metadata": {}
  },
  {
   "cell_type": "markdown",
   "source": [
    "# 124 나라의 숫자"
   ],
   "metadata": {}
  },
  {
   "cell_type": "code",
   "execution_count": 89,
   "source": [
    "def solution(n):\r\n",
    "    answer = ''\r\n",
    "    mod_lst = [4, 1, 2]\r\n",
    "    \r\n",
    "    def add_num(num):\r\n",
    "        nonlocal answer\r\n",
    "        x, y = divmod(num, 3)\r\n",
    "        if y == 0:\r\n",
    "            x -= 1\r\n",
    "        answer+= str(mod_lst[y])\r\n",
    "        return x\r\n",
    "    while True:\r\n",
    "        if n < 1:\r\n",
    "            break\r\n",
    "        n = add_num(n)\r\n",
    "    answer = answer[::-1]\r\n",
    "    return answer\r\n",
    "\r\n",
    "solution(18)"
   ],
   "outputs": [
    {
     "output_type": "execute_result",
     "data": {
      "text/plain": [
       "'124'"
      ]
     },
     "metadata": {},
     "execution_count": 89
    }
   ],
   "metadata": {}
  },
  {
   "cell_type": "markdown",
   "source": [
    "# 짝지어 제거하기"
   ],
   "metadata": {}
  },
  {
   "cell_type": "code",
   "execution_count": 109,
   "source": [
    "# 효율성 2개 실패\r\n",
    "\r\n",
    "def solution(s):\r\n",
    "    answer = -1\r\n",
    "    tmp = ''\r\n",
    "    for i in s:\r\n",
    "        if i != tmp[-1:]:\r\n",
    "            tmp += i\r\n",
    "        else:\r\n",
    "            tmp = tmp[:-1]\r\n",
    "    return 0 if tmp else 1\r\n",
    "solution('cdcd')"
   ],
   "outputs": [
    {
     "output_type": "stream",
     "name": "stdout",
     "text": [
      "cdcd\n"
     ]
    },
    {
     "output_type": "execute_result",
     "data": {
      "text/plain": [
       "0"
      ]
     },
     "metadata": {},
     "execution_count": 109
    }
   ],
   "metadata": {}
  },
  {
   "cell_type": "code",
   "execution_count": 120,
   "source": [
    "# 리스트로 변경해서 해결\r\n",
    "def solution(s):\r\n",
    "    answer = -1\r\n",
    "    tmp = []\r\n",
    "    for i in s:\r\n",
    "        if list(i) != tmp[-1:]:\r\n",
    "            tmp.append(i)\r\n",
    "        else:\r\n",
    "            tmp.pop()\r\n",
    "    return 0 if tmp else 1\r\n",
    "solution('baabaa')"
   ],
   "outputs": [
    {
     "output_type": "execute_result",
     "data": {
      "text/plain": [
       "1"
      ]
     },
     "metadata": {},
     "execution_count": 120
    }
   ],
   "metadata": {}
  },
  {
   "cell_type": "markdown",
   "source": [
    "# 오픈채팅방"
   ],
   "metadata": {}
  },
  {
   "cell_type": "code",
   "execution_count": 35,
   "source": [
    "def solution(record):\r\n",
    "    answer = []\r\n",
    "\r\n",
    "    enter_txt = \"님이 들어왔습니다.\"\r\n",
    "    leave_txt = \"님이 나갔습니다.\"\r\n",
    "    \r\n",
    "    usr_dict = {}\r\n",
    "    \r\n",
    "    for i in range(len(record)):\r\n",
    "        chat_lst = record[i].split(\" \")\r\n",
    "        if chat_lst[0] == \"Enter\" or chat_lst[0] == \"Change\":\r\n",
    "            usr_dict[chat_lst[1]] = chat_lst[2]\r\n",
    "        record[i] = chat_lst\r\n",
    "\r\n",
    "    for i in record:\r\n",
    "        if i[0] == \"Enter\":\r\n",
    "            answer.append(usr_dict[i[1]] + enter_txt)\r\n",
    "        elif i[0] == \"Leave\":\r\n",
    "            answer.append(usr_dict[i[1]] + leave_txt)\r\n",
    "    return answer\r\n",
    "\r\n",
    "solution([\"Enter uid1234 Muzi\", \"Enter uid4567 Prodo\",\"Leave uid1234\",\"Enter uid1234 Prodo\",\"Change uid4567 Ryan\"])"
   ],
   "outputs": [
    {
     "output_type": "execute_result",
     "data": {
      "text/plain": [
       "['Prodo님이 들어왔습니다.', 'Ryan님이 들어왔습니다.', 'Prodo님이 나갔습니다.', 'Prodo님이 들어왔습니다.']"
      ]
     },
     "metadata": {},
     "execution_count": 35
    }
   ],
   "metadata": {
    "scrolled": true
   }
  },
  {
   "cell_type": "markdown",
   "source": [
    "# 스킬트리"
   ],
   "metadata": {}
  },
  {
   "cell_type": "code",
   "execution_count": 14,
   "source": [
    "def solution(skill, skill_trees):\r\n",
    "    answer = 0\r\n",
    "    for i in skill_trees:\r\n",
    "        lst = [-1]\r\n",
    "        flag = True\r\n",
    "        for j in i:\r\n",
    "            try:\r\n",
    "                if skill.index(j) - 1 in lst:\r\n",
    "                    lst.append(skill.index(j))\r\n",
    "                else:\r\n",
    "                    flag = False\r\n",
    "                    break\r\n",
    "            except:\r\n",
    "                pass\r\n",
    "        if flag:\r\n",
    "            answer += 1\r\n",
    "            \r\n",
    "    return answer\r\n",
    "\r\n",
    "skill, skill_trees = \"CBD\",[\"BACDE\", \"CBADF\", \"AECB\", \"BDA\"]\r\n",
    "solution(skill, skill_trees)"
   ],
   "outputs": [
    {
     "output_type": "execute_result",
     "data": {
      "text/plain": [
       "2"
      ]
     },
     "metadata": {},
     "execution_count": 14
    }
   ],
   "metadata": {}
  },
  {
   "cell_type": "markdown",
   "source": [
    "# 가장 큰 수"
   ],
   "metadata": {}
  },
  {
   "cell_type": "code",
   "execution_count": 27,
   "source": [
    "def solution(numbers):\r\n",
    "    answer = \"\".join(sorted([str(i) for i in numbers], key=lambda x : (x*3)[:5], reverse=True))\r\n",
    "    return '0' if len(answer) == answer.count('0') else answer\r\n",
    "\r\n",
    "\r\n",
    "solution([21,212]) # 21221\r\n",
    "solution([40,403]) # 40403"
   ],
   "outputs": [
    {
     "output_type": "execute_result",
     "data": {
      "text/plain": [
       "'40403'"
      ]
     },
     "metadata": {},
     "execution_count": 27
    }
   ],
   "metadata": {}
  },
  {
   "cell_type": "markdown",
   "source": [
    "# 영어 끝말잇기"
   ],
   "metadata": {}
  },
  {
   "cell_type": "code",
   "execution_count": 32,
   "source": [
    "def solution(n, words):\r\n",
    "    tmp = []\r\n",
    "    for i in words:\r\n",
    "        if i in tmp:\r\n",
    "            break\r\n",
    "        if tmp:\r\n",
    "            if tmp[-1][-1] != i[0]:\r\n",
    "                break\r\n",
    "        tmp.append(i)\r\n",
    "    \r\n",
    "    a, b = divmod(len(tmp), n)\r\n",
    "    \r\n",
    "    return [0, 0] if len(tmp) == len(words) else [b+1, a+1]\r\n",
    "\r\n",
    "solution(2, [\"hello\", \"one\", \"even\", \"never\", \"now\", \"world\", \"draw\"])\r\n",
    "solution(3, [\"tank\", \"kick\", \"know\", \"wheel\", \"land\", \"dream\", \"mother\", \"robot\", \"tank\"])\r\n",
    "solution(5, [\"hello\", \"observe\", \"effect\", \"take\", \"either\", \"recognize\", \"encourage\", \"ensure\", \"establish\", \"hang\", \"gather\", \"refer\", \"reference\", \"estimate\", \"executive\"])"
   ],
   "outputs": [
    {
     "output_type": "execute_result",
     "data": {
      "text/plain": [
       "[0, 0]"
      ]
     },
     "metadata": {},
     "execution_count": 32
    }
   ],
   "metadata": {}
  },
  {
   "cell_type": "markdown",
   "source": [
    "# 방금 그 곡"
   ],
   "metadata": {}
  },
  {
   "cell_type": "code",
   "execution_count": 94,
   "source": [
    "def solution(m, musicinfos):\r\n",
    "\r\n",
    "    tmp = []\r\n",
    "    \r\n",
    "    def change_node(string):\r\n",
    "        node_lst = [('C#', '1'), ('D#', '2'), ('E#', '6'), ('F#', '3'), ('G#', '4'), ('A#', '5'), ('B#', '6')]\r\n",
    "        for i in node_lst:\r\n",
    "            string = string.replace(i[0], i[1])\r\n",
    "        return string\r\n",
    "\r\n",
    "    for i in musicinfos:\r\n",
    "        start, end, title, melody = i.split(\",\")\r\n",
    "        \r\n",
    "        start_h, start_m = start.split(\":\")\r\n",
    "        end_h, end_m = end.split(\":\")\r\n",
    "        time = (int(end_h) - int(start_h)) * 60 + (int(end_m) - int(start_m))\r\n",
    "        \r\n",
    "        m = change_node(m)\r\n",
    "        melody = change_node(melody)\r\n",
    "        \r\n",
    "        melody = melody * ((time // len(melody))+1)\r\n",
    "            \r\n",
    "        melody = melody[:time]\r\n",
    "        print(melody)\r\n",
    "        if m in melody:\r\n",
    "            tmp.append([title, len(melody)])\r\n",
    "\r\n",
    "    return sorted(tmp, key=lambda x : x[1], reverse=True)[0][0] if tmp else \"(None)\"\r\n",
    "\r\n",
    "solution(\"ABCDEFG\", [\"12:00,12:14,HELLO,CDEFGAB\", \"13:00,13:05,WORLD,ABCDEF\"])\r\n",
    "solution(\"CC#BCC#BCC#BCC#B\", [\"03:00,03:30,FOO,CC#B\", \"04:00,04:08,BAR,CC#BCC#BCC#B\"])\r\n",
    "solution(\"ABC\", [\"12:00,12:14,HELLO,C#DEFGAB\", \"13:00,13:05,WORLD,ABCDEF\"])\r\n",
    "solution(\"CCB\", [\"03:00,03:10,FOO,CCB#CCB\", \"04:00,04:08,BAR,ABC\"])"
   ],
   "outputs": [
    {
     "output_type": "stream",
     "name": "stdout",
     "text": [
      "CC6CCBCC6C\n",
      "ABCABCAB\n"
     ]
    },
    {
     "output_type": "execute_result",
     "data": {
      "text/plain": [
       "'FOO'"
      ]
     },
     "metadata": {},
     "execution_count": 94
    }
   ],
   "metadata": {}
  },
  {
   "cell_type": "markdown",
   "source": [
    "# 멀쩡한 사각형"
   ],
   "metadata": {}
  },
  {
   "cell_type": "code",
   "execution_count": 12,
   "source": [
    "def solution(w,h):\r\n",
    "    _w = w\r\n",
    "    _h = h\r\n",
    "    while _h:\r\n",
    "        _w, _h = _h, _w % _h\r\n",
    "\r\n",
    "    return w * h - (w + h) + _w\r\n",
    "\r\n",
    "solution(8, 12) # 정답: 80"
   ],
   "outputs": [
    {
     "output_type": "execute_result",
     "data": {
      "text/plain": [
       "80"
      ]
     },
     "metadata": {},
     "execution_count": 12
    }
   ],
   "metadata": {}
  },
  {
   "cell_type": "markdown",
   "source": [
    "# H-index"
   ],
   "metadata": {}
  },
  {
   "cell_type": "code",
   "execution_count": 1,
   "source": [
    "def solution(citations):\r\n",
    "    length = len(citations)\r\n",
    "    while length >= 0:\r\n",
    "        if len(list(filter(lambda x: x >=length, citations))) >= length: return length\r\n",
    "        length -= 1\r\n",
    "    return 0 if len(citations) == citations.count(0) else min(len(citations), max(1, min(citations)))\r\n",
    "\r\n",
    "# solution([1, 3, 5, 7, 9, 11]) # 4\r\n",
    "# solution([0,0,0]) # 0\r\n",
    "# solution([88, 89]) # 2\r\n",
    "# solution([2,2,2,2,2]) # 2\r\n",
    "# solution([5,5,5,5]) # 4\r\n",
    "# solution([4, 3, 3, 3, 3]) # 3\r\n",
    "# solution([0, 1, 1]) # 1\r\n",
    "# solution([0, 1, 9]) # 1\r\n",
    "# solution([1,4]) # 1\r\n",
    "# solution([0, 0 ,1 ,1]) # 1\r\n",
    "# solution([0, 1, 3, 5, 6]) # 3"
   ],
   "outputs": [],
   "metadata": {}
  }
 ],
 "metadata": {
  "kernelspec": {
   "name": "python3",
   "display_name": "Python 3.9.5 64-bit"
  },
  "language_info": {
   "codemirror_mode": {
    "name": "ipython",
    "version": 3
   },
   "file_extension": ".py",
   "mimetype": "text/x-python",
   "name": "python",
   "nbconvert_exporter": "python",
   "pygments_lexer": "ipython3",
   "version": "3.9.5"
  },
  "interpreter": {
   "hash": "ac59ebe37160ed0dfa835113d9b8498d9f09ceb179beaac4002f036b9467c963"
  }
 },
 "nbformat": 4,
 "nbformat_minor": 4
}