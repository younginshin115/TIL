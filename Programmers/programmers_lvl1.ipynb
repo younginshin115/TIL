{
 "cells": [
  {
   "cell_type": "markdown",
   "source": [
    "# 크레인 인형뽑기"
   ],
   "metadata": {}
  },
  {
   "cell_type": "code",
   "execution_count": null,
   "source": [
    "def solution(board, moves):\r\n",
    "    answer = 0\r\n",
    "    basket = []\r\n",
    "    for i in moves:\r\n",
    "        for j in range(len(board)):\r\n",
    "            if board[j][i-1] != 0:\r\n",
    "                if len(basket) != 0:\r\n",
    "                    if board[j][i-1] == basket[-1]:\r\n",
    "                        del basket[-1]\r\n",
    "                        board[j][i-1] = 0\r\n",
    "                        answer += 2\r\n",
    "                        break\r\n",
    "                    else:\r\n",
    "                        basket.append(board[j][i-1])\r\n",
    "                        board[j][i-1] = 0\r\n",
    "                        break                        \r\n",
    "                else:\r\n",
    "                    basket.append(board[j][i-1])\r\n",
    "                    board[j][i-1] = 0\r\n",
    "                    break\r\n",
    "            else:\r\n",
    "                pass\r\n",
    "    return answer"
   ],
   "outputs": [],
   "metadata": {}
  },
  {
   "cell_type": "markdown",
   "source": [
    "# 두개 뽑아서 더하기"
   ],
   "metadata": {}
  },
  {
   "cell_type": "code",
   "execution_count": 1,
   "source": [
    "def solution(numbers):\r\n",
    "    answer = []\r\n",
    "    for i in numbers:\r\n",
    "        for j in numbers:\r\n",
    "            if i != j:\r\n",
    "                sum_nums = i + j\r\n",
    "                if sum_nums not in answer:\r\n",
    "                    answer.append(sum_nums)\r\n",
    "            if numbers.count(i) >= 2:\r\n",
    "                sum_nums = i * 2\r\n",
    "                if sum_nums not in answer:\r\n",
    "                    answer.append(sum_nums)                \r\n",
    "    answer.sort()\r\n",
    "    return answer\r\n",
    "\r\n",
    "\r\n",
    "num = [2,1,3,4,1]\r\n",
    "solution(num)\r\n"
   ],
   "outputs": [
    {
     "output_type": "execute_result",
     "data": {
      "text/plain": [
       "[2, 3, 4, 5, 6, 7]"
      ]
     },
     "metadata": {},
     "execution_count": 1
    }
   ],
   "metadata": {}
  },
  {
   "cell_type": "markdown",
   "source": [
    "# 완주하지 못한 선수"
   ],
   "metadata": {}
  },
  {
   "cell_type": "code",
   "execution_count": null,
   "source": [
    "def solution(participant, completion):\r\n",
    "    answer = ''\r\n",
    "    participant.sort()\r\n",
    "    completion.sort()\r\n",
    "    for i in range(len(completion)):\r\n",
    "        if completion[i] != participant[i]:\r\n",
    "            answer = participant[i]\r\n",
    "            break\r\n",
    "    if answer == '':\r\n",
    "        answer = participant[-1]\r\n",
    "    return answer\r\n",
    "\r\n",
    "participant = [\"leo\", \"kiki\", \"eden\"]\r\n",
    "completion = [\"eden\", \"kiki\"]\r\n",
    "print(solution(participant, completion))\r\n",
    "part2 = [\"mislav\", \"stanko\", \"mislav\", \"ana\"]\r\n",
    "comp2 = [\"stanko\", \"ana\", \"mislav\"]\r\n",
    "solution(part2, comp2)"
   ],
   "outputs": [],
   "metadata": {}
  },
  {
   "cell_type": "markdown",
   "source": [
    "# 신규아이디 추천"
   ],
   "metadata": {}
  },
  {
   "cell_type": "code",
   "execution_count": 103,
   "source": [
    "def solution(new_id):\r\n",
    "    answer = ''\r\n",
    "    new_id = new_id.lower()\r\n",
    "    new_lst = []\r\n",
    "\r\n",
    "    for i in range(len(new_id)):\r\n",
    "        if new_id[i].isalnum() == True or new_id[i] == '-' or new_id[i] == '_' or new_id[i] == '.':\r\n",
    "            new_lst.append(new_id[i])\r\n",
    "    dot_lst = []\r\n",
    "    for i in range(0, len(new_lst)):\r\n",
    "        if new_lst[i] != '.':\r\n",
    "            dot_lst.append(new_lst[i])\r\n",
    "        else:\r\n",
    "            if len(new_lst) >= 2:\r\n",
    "                if new_lst[i] != new_lst[i-1]:\r\n",
    "                    dot_lst.append(new_lst[i])\r\n",
    "            else:\r\n",
    "                dot_lst.append(new_lst[i])\r\n",
    "    if len(dot_lst) >= 1:\r\n",
    "        if dot_lst[0] == '.':\r\n",
    "            del dot_lst[0]\r\n",
    "        elif dot_lst[-1] == '.':\r\n",
    "            del dot_lst[-1]\r\n",
    "    if dot_lst == []:\r\n",
    "        dot_lst.append('a')\r\n",
    "    if len(dot_lst) >= 16:\r\n",
    "        del dot_lst[15:]\r\n",
    "    if len(dot_lst) >= 1:\r\n",
    "        if dot_lst[-1] == '.':\r\n",
    "            del dot_lst[-1]\r\n",
    "    if len(dot_lst) <= 2 and len(dot_lst) >= 1:\r\n",
    "        dot = dot_lst[-1]\r\n",
    "        while len(dot_lst) < 3:\r\n",
    "            dot_lst.append(dot)\r\n",
    "\r\n",
    "    answer = ''.join(dot_lst)\r\n",
    "    return answer\r\n",
    "\r\n",
    "new_id = \"...!@BaT#*..y.abcdefghijklm\"\r\n",
    "solution(new_id)\r\n",
    "\r\n",
    "new_id2 = \"=.=\"\r\n",
    "solution(new_id2)\r\n",
    "\r\n",
    "new_id3 = \"z-+.^.\"\r\n",
    "solution(new_id3)"
   ],
   "outputs": [
    {
     "output_type": "execute_result",
     "data": {
      "text/plain": [
       "'z--'"
      ]
     },
     "metadata": {},
     "execution_count": 103
    }
   ],
   "metadata": {}
  },
  {
   "cell_type": "markdown",
   "source": [
    "# 모의고사"
   ],
   "metadata": {}
  },
  {
   "cell_type": "code",
   "execution_count": 10,
   "source": [
    "def solution(answers):\r\n",
    "    answer = []\r\n",
    "    def student1(answers):\r\n",
    "        pattern = [1,2,3,4,5]\r\n",
    "        num = 0\r\n",
    "        correct_num = 0\r\n",
    "        for i in range(len(answers)):\r\n",
    "            if i != 0 and i % len(pattern) == 0:\r\n",
    "                num += len(pattern)\r\n",
    "            if answers[i] == pattern[i-num]:\r\n",
    "                correct_num += 1\r\n",
    "        return correct_num\r\n",
    "    def student2(answers):\r\n",
    "        pattern = [2, 1, 2, 3, 2, 4, 2, 5]\r\n",
    "        num = 0\r\n",
    "        correct_num = 0\r\n",
    "        for i in range(len(answers)):\r\n",
    "            if i != 0 and i % len(pattern) == 0:\r\n",
    "                num += len(pattern)\r\n",
    "            if answers[i] == pattern[i-num]:\r\n",
    "                correct_num += 1\r\n",
    "        return correct_num\r\n",
    "    def student3(answers):\r\n",
    "        pattern = [3, 3, 1, 1, 2, 2, 4, 4, 5, 5]\r\n",
    "        num = 0\r\n",
    "        correct_num = 0\r\n",
    "        for i in range(len(answers)):\r\n",
    "            if i != 0 and i % len(pattern) == 0:\r\n",
    "                num += len(pattern)\r\n",
    "            if answers[i] == pattern[i-num]:\r\n",
    "                correct_num += 1\r\n",
    "        return correct_num\r\n",
    "    s1 = student1(answers)    \r\n",
    "    s2 = student2(answers)\r\n",
    "    s3 = student3(answers)              \r\n",
    "    \r\n",
    "\r\n",
    "    if s1 > s2:\r\n",
    "        if s2 >= s3:\r\n",
    "            answer.append(1)\r\n",
    "        else:\r\n",
    "            if s1 > s3:\r\n",
    "                answer.append(1)\r\n",
    "            elif s1 == s3:\r\n",
    "                answer.append(1)\r\n",
    "                answer.append(3)\r\n",
    "            else:\r\n",
    "                answer.append(3)\r\n",
    "    elif s1 < s2:\r\n",
    "        if s2 > s3:\r\n",
    "            answer.append(2)\r\n",
    "        elif s2 == s3:\r\n",
    "            answer.append(2)\r\n",
    "            answer.append(3)\r\n",
    "        else:\r\n",
    "            answer.append(3)\r\n",
    "    else:\r\n",
    "        if s1 < s3:\r\n",
    "            answer.append(3)\r\n",
    "        elif s1 > s3:\r\n",
    "            answer.append(1)\r\n",
    "            answer.append(2)\r\n",
    "        else:\r\n",
    "            answer.append(1)\r\n",
    "            answer.append(2)\r\n",
    "            answer.append(3)\r\n",
    "\r\n",
    "    return answer\r\n",
    "\r\n",
    "# answers = [1,2,3,4,5]\r\n",
    "answers = [1,3,2,4,2]\r\n",
    "\r\n",
    "solution(answers)"
   ],
   "outputs": [
    {
     "output_type": "execute_result",
     "data": {
      "text/plain": [
       "[1, 2, 3]"
      ]
     },
     "metadata": {},
     "execution_count": 10
    }
   ],
   "metadata": {}
  },
  {
   "cell_type": "markdown",
   "source": [
    "# 체육복"
   ],
   "metadata": {}
  },
  {
   "cell_type": "code",
   "execution_count": 22,
   "source": [
    "def solution(n, lost, reserve):\r\n",
    "    if n > 1 and n < 31:\r\n",
    "        if (len(lost) > 0 and len(lost) < n+1) and (len(reserve) > 0 and len(reserve) < n+1):\r\n",
    "            lost = sorted(list(set(lost)))\r\n",
    "            answer = n - len(lost)\r\n",
    "            reserve = sorted(list(set(reserve)))\r\n",
    "            for num in range(len(lost)):\r\n",
    "                for ls in lost:\r\n",
    "                    for rs in reserve:\r\n",
    "                        if ls == rs:\r\n",
    "                            answer += 1\r\n",
    "                            del lost[lost.index(ls)]\r\n",
    "                            del reserve[reserve.index(rs)]\r\n",
    "            for num in range(len(lost)):\r\n",
    "                for ls in lost:\r\n",
    "                    for rs in reserve:\r\n",
    "                        if (ls == rs - 1):\r\n",
    "                            answer += 1\r\n",
    "                            del lost[lost.index(ls)]\r\n",
    "                            del reserve[reserve.index(rs)]\r\n",
    "                        elif (ls == rs + 1):\r\n",
    "                            answer += 1\r\n",
    "                            del lost[lost.index(ls)]\r\n",
    "                            del reserve[reserve.index(rs)]\r\n",
    "\r\n",
    "    return answer\r\n",
    "\r\n",
    "\r\n",
    "solution(5, [5], [4])"
   ],
   "outputs": [
    {
     "output_type": "stream",
     "name": "stdout",
     "text": [
      "[]\n",
      "[]\n"
     ]
    },
    {
     "output_type": "execute_result",
     "data": {
      "text/plain": [
       "5"
      ]
     },
     "metadata": {},
     "execution_count": 22
    }
   ],
   "metadata": {}
  },
  {
   "cell_type": "markdown",
   "source": [
    "# K번째 수"
   ],
   "metadata": {}
  },
  {
   "cell_type": "code",
   "execution_count": 34,
   "source": [
    "def solution(array, commands):\r\n",
    "    answer = []\r\n",
    "    for i in range(len(commands)):\r\n",
    "        answer_i = array[commands[i][0]-1:commands[i][1]]\r\n",
    "        answer_i.sort()\r\n",
    "        answer.append(answer_i[commands[i][2]-1])\r\n",
    "    \r\n",
    "    return answer\r\n",
    "\r\n",
    "solution([1, 5, 2, 6, 3, 7, 4], [[2, 5, 3], [4, 4, 1], [1, 7, 3]])"
   ],
   "outputs": [
    {
     "output_type": "execute_result",
     "data": {
      "text/plain": [
       "[5, 6, 3]"
      ]
     },
     "metadata": {},
     "execution_count": 34
    }
   ],
   "metadata": {}
  },
  {
   "cell_type": "markdown",
   "source": [
    "# 키패드 누르기"
   ],
   "metadata": {}
  },
  {
   "cell_type": "code",
   "execution_count": 57,
   "source": [
    "def solution(numbers, hand):\r\n",
    "    answer = ''\r\n",
    "    \r\n",
    "    def num_dict(lst, vertical):\r\n",
    "        temp_dict = {}\r\n",
    "        for i, j in enumerate(lst):\r\n",
    "            temp_dict[j] = (i, vertical)\r\n",
    "        return temp_dict\r\n",
    "        \r\n",
    "    left_lst = [1, 4, 7, \"*\"]\r\n",
    "    right_lst = [3, 6, 9, \"#\"]\r\n",
    "    mid_lst = [2, 5, 8, 0]\r\n",
    "    left_dict = num_dict(left_lst, 0)\r\n",
    "    right_dict = num_dict(right_lst, 2)\r\n",
    "    mid_dict = num_dict(mid_lst, 1)\r\n",
    "    \r\n",
    "    right_hand = (3, 0)\r\n",
    "    left_hand = (3, 2)\r\n",
    "    \r\n",
    "    for i in numbers:\r\n",
    "        if i in left_lst:\r\n",
    "            answer += 'L'\r\n",
    "            left_hand = left_dict[i]\r\n",
    "        elif i in right_lst:\r\n",
    "            answer += 'R'\r\n",
    "            right_hand = right_dict[i]\r\n",
    "        else:\r\n",
    "            right_dist_0 = abs(mid_dict[i][0] - right_hand[0])\r\n",
    "            right_dist_1 = abs(mid_dict[i][1] - right_hand[1])\r\n",
    "            left_dist_0 = abs(mid_dict[i][0] - left_hand[0])\r\n",
    "            left_dist_1 = abs(mid_dict[i][1] - left_hand[1])            \r\n",
    "            if right_dist_0 + right_dist_1 > left_dist_0 + left_dist_1:\r\n",
    "                answer += 'L'\r\n",
    "                left_hand = mid_dict[i]\r\n",
    "            elif right_dist_0 + right_dist_1 < left_dist_0 + left_dist_1:\r\n",
    "                answer += 'R'\r\n",
    "                right_hand = mid_dict[i]\r\n",
    "            else:\r\n",
    "                if hand == \"right\":\r\n",
    "                    answer += 'R'\r\n",
    "                    right_hand = mid_dict[i]\r\n",
    "                else:\r\n",
    "                    answer += 'L'\r\n",
    "                    left_hand = mid_dict[i]\r\n",
    "    \r\n",
    "    return answer\r\n",
    "\r\n",
    "\r\n",
    "numbers = [1, 3, 4, 5, 8, 2, 1, 4, 5, 9, 5]\r\n",
    "hand = \"right\"\r\n",
    "solution(numbers, hand)"
   ],
   "outputs": [
    {
     "output_type": "stream",
     "name": "stdout",
     "text": [
      "(0, 0) (3, 0)\n",
      "(0, 0) (0, 2)\n",
      "(1, 0) (0, 2)\n",
      "0 1 1 1\n",
      "(1, 1) (0, 2)\n",
      "1 0 2 1\n",
      "(2, 1) (0, 2)\n",
      "2 0 0 1\n",
      "(2, 1) (0, 1)\n",
      "(0, 0) (0, 1)\n",
      "(1, 0) (0, 1)\n",
      "0 1 1 0\n",
      "(1, 0) (1, 1)\n",
      "(1, 0) (2, 2)\n",
      "0 1 1 1\n",
      "(1, 1) (2, 2)\n"
     ]
    },
    {
     "output_type": "execute_result",
     "data": {
      "text/plain": [
       "'LRLLLRLLRRL'"
      ]
     },
     "metadata": {},
     "execution_count": 57
    }
   ],
   "metadata": {
    "scrolled": true
   }
  },
  {
   "cell_type": "markdown",
   "source": [
    "# 음양 더하기"
   ],
   "metadata": {}
  },
  {
   "cell_type": "code",
   "execution_count": 3,
   "source": [
    "def solution(absolutes, signs):\r\n",
    "    answer = 0\r\n",
    "    plus = []\r\n",
    "    minus = []\r\n",
    "    for i in range(len(absolutes)):\r\n",
    "        if signs[i]:\r\n",
    "            plus.append(absolutes[i])\r\n",
    "        else:\r\n",
    "            minus.append(absolutes[i])\r\n",
    "    answer = sum(plus) - sum(minus)\r\n",
    "    \r\n",
    "    return answer\r\n",
    "\r\n",
    "absolutes = [4,7,12]\r\n",
    "signs = [True,False,True]\r\n",
    "\r\n",
    "solution(absolutes, signs)"
   ],
   "outputs": [
    {
     "output_type": "execute_result",
     "data": {
      "text/plain": [
       "9"
      ]
     },
     "metadata": {},
     "execution_count": 3
    }
   ],
   "metadata": {}
  },
  {
   "cell_type": "markdown",
   "source": [
    "# 정수 내림차순으로 정렬하기"
   ],
   "metadata": {}
  },
  {
   "cell_type": "code",
   "execution_count": 13,
   "source": [
    "def solution(n):\r\n",
    "    answer = 0\r\n",
    "    n_lst = list(str(n))\r\n",
    "    n_lst.sort(reverse=True)\r\n",
    "    answer = int(\"\".join(n_lst))\r\n",
    "    return answer\r\n",
    "\r\n",
    "\r\n",
    "n = 118372\r\n",
    "solution(n)"
   ],
   "outputs": [
    {
     "output_type": "execute_result",
     "data": {
      "text/plain": [
       "273811"
      ]
     },
     "metadata": {},
     "execution_count": 13
    }
   ],
   "metadata": {
    "scrolled": true
   }
  },
  {
   "cell_type": "markdown",
   "source": [
    "# 최소공배수 최대공약수"
   ],
   "metadata": {}
  },
  {
   "cell_type": "code",
   "execution_count": 123,
   "source": [
    "def solution(n, m):\r\n",
    "    answer = []\r\n",
    "    \r\n",
    "    lst = []\r\n",
    "    a = 2\r\n",
    "    flag = False\r\n",
    "    _n = n\r\n",
    "    \r\n",
    "    while a < max(n, m):\r\n",
    "        if n % a == 0 and m % a == 0:\r\n",
    "            lst.append(a)\r\n",
    "            n /= a\r\n",
    "            m /= a\r\n",
    "            flag = True\r\n",
    "        else:\r\n",
    "            a += 1\r\n",
    "    common_den = 1            \r\n",
    "    if flag:\r\n",
    "        for i in lst:\r\n",
    "            common_den *= i\r\n",
    "    answer.append(common_den)\r\n",
    "    common_mul = common_den * int(n) * int(m)\r\n",
    "    answer.append(common_mul)\r\n",
    "\r\n",
    "    return answer\r\n",
    "\r\n",
    "\r\n",
    "\r\n",
    "# n, m = 3, 12\r\n",
    "# n, m = 2, 5\r\n",
    "# n, m = 7, 7\r\n",
    "n, m = 60, 48\r\n",
    "print(solution(n, m))"
   ],
   "outputs": [
    {
     "output_type": "stream",
     "name": "stdout",
     "text": [
      "[12, 240]\n"
     ]
    }
   ],
   "metadata": {}
  },
  {
   "cell_type": "markdown",
   "source": [
    "# 같은 숫자는 싫어!"
   ],
   "metadata": {}
  },
  {
   "cell_type": "code",
   "execution_count": 5,
   "source": [
    "def solution(arr):\r\n",
    "    answer = []\r\n",
    "    for i in range(len(arr)):\r\n",
    "        if i == 0 or arr[i] != arr[i-1]:\r\n",
    "            answer.append(arr[i])\r\n",
    "    return answer\r\n",
    "\r\n",
    "arr = [1,1,3,3,0,1,1]\r\n",
    "solution(arr)"
   ],
   "outputs": [
    {
     "output_type": "execute_result",
     "data": {
      "text/plain": [
       "[1, 3, 0, 1]"
      ]
     },
     "metadata": {},
     "execution_count": 5
    }
   ],
   "metadata": {
    "scrolled": true
   }
  },
  {
   "cell_type": "markdown",
   "source": [
    "# 로또의 최고 순위와 최저 순위"
   ],
   "metadata": {}
  },
  {
   "cell_type": "code",
   "execution_count": 24,
   "source": [
    "def solution(lottos, win_nums):\r\n",
    "    answer = []\r\n",
    "    rank_max = 0\r\n",
    "    rank_min = 7\r\n",
    "    lottos.sort()\r\n",
    "    win_nums.sort()\r\n",
    "    for i in lottos:\r\n",
    "        if i in win_nums[:]:\r\n",
    "            rank_min -= 1\r\n",
    "            win_nums.remove(i)\r\n",
    "    rank_max = rank_min\r\n",
    "    rank_max -= min(lottos.count(0), len(win_nums))\r\n",
    "    if rank_min == 7:\r\n",
    "        rank_min = 6\r\n",
    "    if rank_max == 7:\r\n",
    "        rank_max = 6\r\n",
    "    answer.append(rank_max)\r\n",
    "    answer.append(rank_min)\r\n",
    "    return answer\r\n",
    "\r\n",
    "\r\n",
    "# lottos, win_nums = [44, 1, 0, 0, 31, 25], [31, 10, 45, 1, 6, 19] # 답 [3, 5]\r\n",
    "# lottos, win_nums = [0, 0, 0, 0, 0, 0], [38, 19, 20, 40, 15, 25] # 답 [1, 6]\r\n",
    "lottos, win_nums = [45, 4, 35, 20, 3, 9], [20, 9, 3, 45, 4, 35] # 답 [1, 1]\r\n",
    "solution(lottos, win_nums)"
   ],
   "outputs": [
    {
     "output_type": "execute_result",
     "data": {
      "text/plain": [
       "[1, 1]"
      ]
     },
     "metadata": {},
     "execution_count": 24
    }
   ],
   "metadata": {}
  },
  {
   "cell_type": "markdown",
   "source": [
    "# 수박수박수박수박수박수?"
   ],
   "metadata": {}
  },
  {
   "cell_type": "code",
   "execution_count": 2,
   "source": [
    "def solution(n):\r\n",
    "    answer = ''\r\n",
    "    for i in range(1,n+1):\r\n",
    "        if i % 2 != 0 :\r\n",
    "            answer += \"수\"\r\n",
    "        else :\r\n",
    "            answer += \"박\"\r\n",
    "    return answer\r\n",
    "\r\n",
    "solution(3)"
   ],
   "outputs": [
    {
     "output_type": "execute_result",
     "data": {
      "text/plain": [
       "'수박수'"
      ]
     },
     "metadata": {},
     "execution_count": 2
    }
   ],
   "metadata": {}
  },
  {
   "cell_type": "markdown",
   "source": [
    "# 가운데 글자 가져오기"
   ],
   "metadata": {}
  },
  {
   "cell_type": "code",
   "execution_count": 8,
   "source": [
    "def solution(s):\r\n",
    "    answer = ''\r\n",
    "    if len(s) % 2 != 0:\r\n",
    "        answer = s[len(s)//2]\r\n",
    "    else:\r\n",
    "        i = len(s)//2\r\n",
    "        answer = s[i-1:i+1]\r\n",
    "    return answer\r\n",
    "\r\n",
    "s = \"abcde\"\r\n",
    "s2 = \"qwer\"\r\n",
    "\r\n",
    "solution(s2)"
   ],
   "outputs": [
    {
     "output_type": "execute_result",
     "data": {
      "text/plain": [
       "'we'"
      ]
     },
     "metadata": {},
     "execution_count": 8
    }
   ],
   "metadata": {}
  },
  {
   "cell_type": "markdown",
   "source": [
    "# 문자열 다루기 기본"
   ],
   "metadata": {}
  },
  {
   "cell_type": "code",
   "execution_count": 23,
   "source": [
    "def solution(s):\r\n",
    "    answer = False\r\n",
    "    if (len(s) == 4 or len(s) == 6) and s.isdigit():\r\n",
    "        answer = True\r\n",
    "    return answer\r\n",
    "\r\n",
    "\r\n",
    "s = \"a234\"\r\n",
    "s2 = \"1234\"\r\n",
    "solution(s2)"
   ],
   "outputs": [
    {
     "output_type": "execute_result",
     "data": {
      "text/plain": [
       "True"
      ]
     },
     "metadata": {},
     "execution_count": 23
    }
   ],
   "metadata": {}
  },
  {
   "cell_type": "markdown",
   "source": [
    "# 평균 구하기\n"
   ],
   "metadata": {}
  },
  {
   "cell_type": "code",
   "execution_count": 24,
   "source": [
    "def solution(arr):\r\n",
    "    return sum(arr)/len(arr)"
   ],
   "outputs": [],
   "metadata": {}
  },
  {
   "cell_type": "markdown",
   "source": [
    "# 짝수와 홀수"
   ],
   "metadata": {}
  },
  {
   "cell_type": "code",
   "execution_count": 25,
   "source": [
    "def solution(num):\r\n",
    "    if num % 2 != 0: return \"Odd\"\r\n",
    "    else: return \"Even\""
   ],
   "outputs": [],
   "metadata": {}
  },
  {
   "cell_type": "markdown",
   "source": [
    "# 핸드폰 번호 가리기\n"
   ],
   "metadata": {}
  },
  {
   "cell_type": "code",
   "execution_count": 30,
   "source": [
    "def solution(s):\r\n",
    "    return '*'*(len(s)-4)+s[len(s)-4:]\r\n",
    "\r\n",
    "s = \"01033334444\"\r\n",
    "solution(s)"
   ],
   "outputs": [
    {
     "output_type": "execute_result",
     "data": {
      "text/plain": [
       "'*******4444'"
      ]
     },
     "metadata": {},
     "execution_count": 30
    }
   ],
   "metadata": {}
  },
  {
   "cell_type": "markdown",
   "source": [
    "# 두 정수 사이의 합\n"
   ],
   "metadata": {}
  },
  {
   "cell_type": "code",
   "execution_count": 33,
   "source": [
    "def solution(a, b):\r\n",
    "    return sum(list(range(min(a,b), max(a,b)+1)))\r\n",
    "\r\n",
    "a, b = 3, 5\r\n",
    "solution(a, b)"
   ],
   "outputs": [
    {
     "output_type": "execute_result",
     "data": {
      "text/plain": [
       "12"
      ]
     },
     "metadata": {},
     "execution_count": 33
    }
   ],
   "metadata": {}
  },
  {
   "cell_type": "markdown",
   "source": [
    "# 약수의 합"
   ],
   "metadata": {}
  },
  {
   "cell_type": "code",
   "execution_count": 38,
   "source": [
    "def solution(n):\r\n",
    "    lst = []\r\n",
    "    for i in range(1, n+1):\r\n",
    "        if n % i == 0:\r\n",
    "            lst.append(i)\r\n",
    "    return sum(lst)\r\n",
    "\r\n",
    "solution(5)"
   ],
   "outputs": [
    {
     "output_type": "execute_result",
     "data": {
      "text/plain": [
       "6"
      ]
     },
     "metadata": {},
     "execution_count": 38
    }
   ],
   "metadata": {}
  },
  {
   "cell_type": "markdown",
   "source": [
    "# 나누어 떨어지는 숫자 배열\n"
   ],
   "metadata": {}
  },
  {
   "cell_type": "code",
   "execution_count": 41,
   "source": [
    "def solution(arr, divisor):\r\n",
    "    answer = []\r\n",
    "    arr.sort()\r\n",
    "    for i in arr:\r\n",
    "        if i % divisor == 0:\r\n",
    "            answer.append(i)\r\n",
    "    if answer:\r\n",
    "        return answer\r\n",
    "    else:\r\n",
    "        return [-1]\r\n",
    "\r\n",
    "arr, divisor = [5, 9, 7, 10], 5\r\n",
    "solution(arr, divisor)"
   ],
   "outputs": [
    {
     "output_type": "execute_result",
     "data": {
      "text/plain": [
       "[5, 10]"
      ]
     },
     "metadata": {},
     "execution_count": 41
    }
   ],
   "metadata": {}
  },
  {
   "cell_type": "markdown",
   "source": [
    "# 서울에서 김서방 찾기\n"
   ],
   "metadata": {}
  },
  {
   "cell_type": "code",
   "execution_count": 43,
   "source": [
    "def solution(seoul):\r\n",
    "    return \"김서방은 {}에 있다\".format(seoul.index(\"Kim\"))\r\n",
    "\r\n",
    "seoul = [\"Jane\", \"Kim\"]\r\n",
    "solution(seoul)"
   ],
   "outputs": [
    {
     "output_type": "execute_result",
     "data": {
      "text/plain": [
       "'김서방은 1에 있다'"
      ]
     },
     "metadata": {},
     "execution_count": 43
    }
   ],
   "metadata": {}
  },
  {
   "cell_type": "markdown",
   "source": [
    "# 문자열을 정수로 바꾸기"
   ],
   "metadata": {}
  },
  {
   "cell_type": "code",
   "execution_count": 45,
   "source": [
    "def solution(s):\r\n",
    "    return int(s)"
   ],
   "outputs": [],
   "metadata": {}
  },
  {
   "cell_type": "markdown",
   "source": [
    "# x만큼 간격이 있는 n개의 숫자"
   ],
   "metadata": {}
  },
  {
   "cell_type": "code",
   "execution_count": 49,
   "source": [
    "def solution(x, n):\r\n",
    "    answer = []\r\n",
    "    _x = 0\r\n",
    "    for i in range(n):\r\n",
    "        _x += x\r\n",
    "        answer.append(_x)\r\n",
    "    return answer\r\n",
    "\r\n",
    "solution(2,5)"
   ],
   "outputs": [
    {
     "output_type": "execute_result",
     "data": {
      "text/plain": [
       "[2, 4, 6, 8, 10]"
      ]
     },
     "metadata": {},
     "execution_count": 49
    }
   ],
   "metadata": {
    "scrolled": true
   }
  },
  {
   "cell_type": "markdown",
   "source": [
    "# 제일 작은 수 제거하기\n"
   ],
   "metadata": {}
  },
  {
   "cell_type": "code",
   "execution_count": 51,
   "source": [
    "def solution(arr):\r\n",
    "    arr.remove(min(arr))\r\n",
    "    if arr:\r\n",
    "        return arr\r\n",
    "    else:\r\n",
    "        return [-1]\r\n",
    "    \r\n",
    "solution([4,3,2,1])"
   ],
   "outputs": [
    {
     "output_type": "execute_result",
     "data": {
      "text/plain": [
       "[4, 3, 2]"
      ]
     },
     "metadata": {},
     "execution_count": 51
    }
   ],
   "metadata": {}
  },
  {
   "cell_type": "code",
   "execution_count": 52,
   "source": [
    "def solution(arr):\r\n",
    "    arr.remove(min(arr))\r\n",
    "    return arr if arr else [-1]"
   ],
   "outputs": [],
   "metadata": {}
  },
  {
   "cell_type": "markdown",
   "source": [
    "# 문자열 내림차순으로 배치하기\n"
   ],
   "metadata": {}
  },
  {
   "cell_type": "code",
   "execution_count": 68,
   "source": [
    "def solution(s):\r\n",
    "    answer = ''\r\n",
    "    s_lst = list(s)\r\n",
    "    s_lst.sort(reverse=True)\r\n",
    "    answer = ''.join(s_lst)\r\n",
    "    return answer\r\n",
    "\r\n",
    "solution(\"Zbcdefg\")"
   ],
   "outputs": [
    {
     "output_type": "execute_result",
     "data": {
      "text/plain": [
       "'gfedcbZ'"
      ]
     },
     "metadata": {},
     "execution_count": 68
    }
   ],
   "metadata": {}
  },
  {
   "cell_type": "markdown",
   "source": [
    "# 행렬의 덧셈"
   ],
   "metadata": {}
  },
  {
   "cell_type": "code",
   "execution_count": 76,
   "source": [
    "def solution(arr1, arr2):\r\n",
    "    answer = []\r\n",
    "    for i in range(len(arr1)):\r\n",
    "        tmp = []\r\n",
    "        for j in range(len(arr1[0])):\r\n",
    "            tmp.append(arr1[i][j] + arr2[i][j])\r\n",
    "        answer.append(tmp)\r\n",
    "    return answer\r\n",
    "\r\n",
    "arr1, arr2 = [[1,2],[2,3]], [[3,4],[5,6]]\r\n",
    "solution(arr1, arr2)"
   ],
   "outputs": [
    {
     "output_type": "execute_result",
     "data": {
      "text/plain": [
       "[[4, 6], [7, 9]]"
      ]
     },
     "metadata": {},
     "execution_count": 76
    }
   ],
   "metadata": {}
  },
  {
   "cell_type": "markdown",
   "source": [
    "# 직사각형 별찍기\n"
   ],
   "metadata": {}
  },
  {
   "cell_type": "code",
   "execution_count": 82,
   "source": [
    "a, b = map(int, input().strip().split(' '))\r\n",
    "for i in range(b):\r\n",
    "    for j in range(a):\r\n",
    "        print(\"*\", end=\"\")\r\n",
    "    print()"
   ],
   "outputs": [
    {
     "output_type": "stream",
     "name": "stdout",
     "text": [
      "5 3\n",
      "*****\n",
      "*****\n",
      "*****\n"
     ]
    }
   ],
   "metadata": {}
  },
  {
   "cell_type": "markdown",
   "source": [
    "# 자연수 뒤집어 배열로 만들기\n"
   ],
   "metadata": {}
  },
  {
   "cell_type": "code",
   "execution_count": 111,
   "source": [
    "def solution(n):\r\n",
    "    return list(int(i) for i in str(n))[::-1]\r\n",
    "\r\n",
    "solution(12345)"
   ],
   "outputs": [
    {
     "output_type": "execute_result",
     "data": {
      "text/plain": [
       "[5, 4, 3, 2, 1]"
      ]
     },
     "metadata": {},
     "execution_count": 111
    }
   ],
   "metadata": {
    "scrolled": true
   }
  },
  {
   "cell_type": "markdown",
   "source": [
    "# 정수 제곱근 판별\n"
   ],
   "metadata": {}
  },
  {
   "cell_type": "code",
   "execution_count": 119,
   "source": [
    "def solution(n):\r\n",
    "    answer = 0\r\n",
    "    i = 1\r\n",
    "    while i <= n:\r\n",
    "        if i ** 2 == n:\r\n",
    "            answer = (i+1) ** 2\r\n",
    "            break\r\n",
    "        i += 1\r\n",
    "    if not answer:\r\n",
    "        answer = -1\r\n",
    "    return answer\r\n",
    "solution(1)"
   ],
   "outputs": [
    {
     "output_type": "execute_result",
     "data": {
      "text/plain": [
       "4"
      ]
     },
     "metadata": {},
     "execution_count": 119
    }
   ],
   "metadata": {}
  },
  {
   "cell_type": "markdown",
   "source": [
    "# 자릿수 더하기\n"
   ],
   "metadata": {}
  },
  {
   "cell_type": "code",
   "execution_count": 121,
   "source": [
    "def solution(n):\r\n",
    "    return sum(list(int(i) for i in str(n)))\r\n",
    "\r\n",
    "solution(987)"
   ],
   "outputs": [
    {
     "output_type": "execute_result",
     "data": {
      "text/plain": [
       "24"
      ]
     },
     "metadata": {},
     "execution_count": 121
    }
   ],
   "metadata": {}
  },
  {
   "cell_type": "markdown",
   "source": [
    "# 문자열 내 p와 y의 개수\n"
   ],
   "metadata": {}
  },
  {
   "cell_type": "code",
   "execution_count": 131,
   "source": [
    "def solution(s):\r\n",
    "    answer = True\r\n",
    "    s = s.lower()\r\n",
    "    if s.count('p') != s.count('y'):\r\n",
    "        answer = False\r\n",
    "    return answer\r\n",
    "\r\n",
    "solution(\"pPoooy\")"
   ],
   "outputs": [
    {
     "output_type": "execute_result",
     "data": {
      "text/plain": [
       "False"
      ]
     },
     "metadata": {},
     "execution_count": 131
    }
   ],
   "metadata": {}
  },
  {
   "cell_type": "markdown",
   "source": [
    "# 문자열 내 마음대로 정렬하기\n"
   ],
   "metadata": {}
  },
  {
   "cell_type": "code",
   "execution_count": 170,
   "source": [
    "def solution(strings, n):\r\n",
    "    answer = []\r\n",
    "    n_dict = dict()\r\n",
    "    for i in range(len(strings)):\r\n",
    "        if strings[i][n] in n_dict:\r\n",
    "            if isinstance(n_dict[strings[i][n]], list):\r\n",
    "                n_dict[strings[i][n]].append(strings[i])\r\n",
    "            else: \r\n",
    "                n_dict[strings[i][n]] = [n_dict[strings[i][n]], strings[i]]\r\n",
    "        else:\r\n",
    "            n_dict[strings[i][n]] = strings[i]\r\n",
    "    for i in sorted(n_dict.keys()):\r\n",
    "        if isinstance(n_dict[i], list):\r\n",
    "            for i in sorted(n_dict[i]):\r\n",
    "                answer.append(i)\r\n",
    "        else:\r\n",
    "            answer.append(n_dict[i])\r\n",
    "    return answer\r\n",
    "\r\n",
    "# strings, n = [\"sun\", \"bed\", \"car\"], 1\r\n",
    "strings, n = [\"abce\", \"abcd\", \"cdx\"], 2\r\n",
    "solution(strings, n)"
   ],
   "outputs": [
    {
     "output_type": "execute_result",
     "data": {
      "text/plain": [
       "['abcd', 'abce', 'cdx']"
      ]
     },
     "metadata": {},
     "execution_count": 170
    }
   ],
   "metadata": {
    "scrolled": true
   }
  },
  {
   "cell_type": "markdown",
   "source": [
    "# 하샤드 수\n"
   ],
   "metadata": {}
  },
  {
   "cell_type": "code",
   "execution_count": 173,
   "source": [
    "def solution(x):\r\n",
    "    answer = True\r\n",
    "    if x % sum(list(int(i) for i in str(x))) != 0:\r\n",
    "        answer = False\r\n",
    "    return answer\r\n",
    "\r\n",
    "solution(11)"
   ],
   "outputs": [
    {
     "output_type": "execute_result",
     "data": {
      "text/plain": [
       "False"
      ]
     },
     "metadata": {},
     "execution_count": 173
    }
   ],
   "metadata": {}
  },
  {
   "cell_type": "markdown",
   "source": [
    "# 이상한 문자 만들기\n"
   ],
   "metadata": {}
  },
  {
   "cell_type": "code",
   "execution_count": 186,
   "source": [
    "def solution(s):\r\n",
    "    answer = ''\r\n",
    "    \r\n",
    "    def strange(string):\r\n",
    "        for i in range(len(string)):\r\n",
    "            string_lst = list(string)\r\n",
    "            if i % 2 == 0:\r\n",
    "                string_lst[i] = string_lst[i].upper()\r\n",
    "            else:\r\n",
    "                string_lst[i] = string_lst[i].lower()\r\n",
    "            string = \"\".join(string_lst)\r\n",
    "        return string\r\n",
    "    \r\n",
    "    lst = s.split(\" \")\r\n",
    "    for i in range(len(lst)):\r\n",
    "        lst[i] = strange(lst[i])\r\n",
    "    answer = \" \".join(lst)\r\n",
    "    return answer\r\n",
    "\r\n",
    "solution(\"try hello world\")"
   ],
   "outputs": [
    {
     "output_type": "execute_result",
     "data": {
      "text/plain": [
       "'TrY HeLlO WoRlD'"
      ]
     },
     "metadata": {},
     "execution_count": 186
    }
   ],
   "metadata": {}
  },
  {
   "cell_type": "markdown",
   "source": [
    "# 콜라츠 추측\n"
   ],
   "metadata": {}
  },
  {
   "cell_type": "code",
   "execution_count": 194,
   "source": [
    "def solution(num):\r\n",
    "    answer = 0\r\n",
    "    while num > 1:\r\n",
    "        if num % 2 == 0:\r\n",
    "            num /= 2\r\n",
    "            answer += 1\r\n",
    "        else:\r\n",
    "            num = num * 3 + 1\r\n",
    "            answer += 1\r\n",
    "        if answer == 500:\r\n",
    "            answer = -1\r\n",
    "            break\r\n",
    "    return answer\r\n",
    "solution(17)"
   ],
   "outputs": [
    {
     "output_type": "execute_result",
     "data": {
      "text/plain": [
       "12"
      ]
     },
     "metadata": {},
     "execution_count": 194
    }
   ],
   "metadata": {}
  },
  {
   "cell_type": "markdown",
   "source": [
    "# 시저 암호\n"
   ],
   "metadata": {}
  },
  {
   "cell_type": "code",
   "execution_count": 227,
   "source": [
    "def solution(s, n):\r\n",
    "    answer = ''\r\n",
    "    lst = []\r\n",
    "    for j in s.split(\" \"):\r\n",
    "        new_str = \"\"\r\n",
    "        for i in j:\r\n",
    "            if (ord(i) + n > 122) or (i.isupper() and ord(i) + n > 90):\r\n",
    "                new_str += chr(ord(i)+n-26)\r\n",
    "            else:\r\n",
    "                new_str += chr(ord(i)+n)\r\n",
    "        lst.append(new_str)\r\n",
    "    answer = \" \".join(lst)\r\n",
    "    return answer\r\n",
    "\r\n",
    "# s, n = \"AB\", 1\r\n",
    "s, n = \"a B z\", 4\r\n",
    "solution(s, n)"
   ],
   "outputs": [
    {
     "output_type": "execute_result",
     "data": {
      "text/plain": [
       "'e F d'"
      ]
     },
     "metadata": {},
     "execution_count": 227
    }
   ],
   "metadata": {}
  },
  {
   "cell_type": "code",
   "execution_count": 221,
   "source": [
    "print(ord('z')-ord('a'))\r\n",
    "print(ord('Z')-ord('A'))\r\n",
    "ord('Z')"
   ],
   "outputs": [
    {
     "output_type": "stream",
     "name": "stdout",
     "text": [
      "25\n",
      "25\n"
     ]
    },
    {
     "output_type": "execute_result",
     "data": {
      "text/plain": [
       "90"
      ]
     },
     "metadata": {},
     "execution_count": 221
    }
   ],
   "metadata": {}
  },
  {
   "cell_type": "markdown",
   "source": [
    "# 예산\n"
   ],
   "metadata": {}
  },
  {
   "cell_type": "code",
   "execution_count": 294,
   "source": [
    "def solution(d, budget):\r\n",
    "    answer = 0\r\n",
    "    total_budget = 0\r\n",
    "    for i in sorted(d):\r\n",
    "        total_budget += i\r\n",
    "        if total_budget > budget:\r\n",
    "            break\r\n",
    "        answer += 1\r\n",
    "    return answer\r\n",
    "\r\n",
    "# d, budget = [1,3,2,5,4], 9\r\n",
    "d, budget = [2,2,3,3], 10\r\n",
    "solution(d, budget)"
   ],
   "outputs": [
    {
     "output_type": "execute_result",
     "data": {
      "text/plain": [
       "4"
      ]
     },
     "metadata": {},
     "execution_count": 294
    }
   ],
   "metadata": {}
  },
  {
   "cell_type": "markdown",
   "source": [
    "# 2016년\n"
   ],
   "metadata": {}
  },
  {
   "cell_type": "code",
   "execution_count": 36,
   "source": [
    "def solution(a, b):\r\n",
    "    answer = ''\r\n",
    "    month_dic = {(1, 3, 5, 7, 8, 10, 12) : 31, (4, 6, 9, 11) : 30, (2,) : 29}\r\n",
    "    weekdays = ['THU','FRI','SAT','SUN','MON','TUE','WED',]\r\n",
    "    total_days = b\r\n",
    "    for i in range(1, a):\r\n",
    "        for j in list(month_dic.keys()):\r\n",
    "            if i in j:\r\n",
    "                total_days += month_dic[j]\r\n",
    "    answer = weekdays[total_days%7]            \r\n",
    "    return answer\r\n",
    "\r\n",
    "solution(1, 8)"
   ],
   "outputs": [
    {
     "output_type": "execute_result",
     "data": {
      "text/plain": [
       "'FRI'"
      ]
     },
     "metadata": {},
     "execution_count": 36
    }
   ],
   "metadata": {}
  },
  {
   "cell_type": "markdown",
   "source": [
    "# 3진법 뒤집기\n"
   ],
   "metadata": {}
  },
  {
   "cell_type": "code",
   "execution_count": 77,
   "source": [
    "def solution(n):\r\n",
    "    answer = 0\r\n",
    "    lst = []\r\n",
    "    while n > 0:\r\n",
    "        n, m = divmod(n, 3)\r\n",
    "        lst.append(m)\r\n",
    "    for i in range(len(lst)):\r\n",
    "        answer += lst[i] * (3 ** (len(lst)-i-1))\r\n",
    "    return answer\r\n",
    "\r\n",
    "solution(125)"
   ],
   "outputs": [
    {
     "output_type": "stream",
     "name": "stdout",
     "text": [
      "[2, 2, 1, 1, 1]\n"
     ]
    },
    {
     "output_type": "execute_result",
     "data": {
      "text/plain": [
       "229"
      ]
     },
     "metadata": {},
     "execution_count": 77
    }
   ],
   "metadata": {}
  },
  {
   "cell_type": "code",
   "execution_count": 79,
   "source": [
    "# 다른 사람 답(int(값, 진수))\r\n",
    "\r\n",
    "def solution(n):\r\n",
    "    tmp = ''\r\n",
    "    while n:\r\n",
    "        tmp += str(n % 3)\r\n",
    "        n = n // 3\r\n",
    "\r\n",
    "    answer = int(tmp, 3)\r\n",
    "    return answer\r\n",
    "\r\n",
    "solution(125)"
   ],
   "outputs": [
    {
     "output_type": "execute_result",
     "data": {
      "text/plain": [
       "229"
      ]
     },
     "metadata": {},
     "execution_count": 79
    }
   ],
   "metadata": {}
  },
  {
   "cell_type": "markdown",
   "source": [
    "# 실패율"
   ],
   "metadata": {}
  },
  {
   "cell_type": "code",
   "execution_count": 5,
   "source": [
    "def solution(N, stages):\r\n",
    "    answer = []\r\n",
    "    stage_dict = {}\r\n",
    "    tmp = 0\r\n",
    "    for i in range(1, N+1):\r\n",
    "        if (len(stages)-tmp) != 0:\r\n",
    "            stage_dict[i] = stages.count(i) / (len(stages)-tmp)\r\n",
    "            tmp += stages.count(i)\r\n",
    "        else: \r\n",
    "            stage_dict[i] = 0\r\n",
    "    print(stage_dict.items())\r\n",
    "    stage_dict_sorted = dict(sorted(stage_dict.items(), key=lambda x : x[1], reverse=True))\r\n",
    "    print(stage_dict_sorted)\r\n",
    "    answer = list(stage_dict_sorted.keys())\r\n",
    "    return answer\r\n",
    "\r\n",
    "N, stages = 5, [2, 1, 2, 6, 2, 4, 3, 3]\r\n",
    "# N, stages = 4, [4,4,4,4,4]\r\n",
    "solution(N, stages)"
   ],
   "outputs": [
    {
     "output_type": "stream",
     "name": "stdout",
     "text": [
      "dict_items([(1, 0.125), (2, 0.42857142857142855), (3, 0.5), (4, 0.5), (5, 0.0)])\n",
      "{3: 0.5, 4: 0.5, 2: 0.42857142857142855, 1: 0.125, 5: 0.0}\n"
     ]
    },
    {
     "output_type": "execute_result",
     "data": {
      "text/plain": [
       "[3, 4, 2, 1, 5]"
      ]
     },
     "metadata": {},
     "execution_count": 5
    }
   ],
   "metadata": {}
  },
  {
   "cell_type": "markdown",
   "source": [
    "# 내적"
   ],
   "metadata": {}
  },
  {
   "cell_type": "code",
   "execution_count": 117,
   "source": [
    "def solution(a, b):\r\n",
    "    answer = 0\r\n",
    "    for i in range(len(a)):\r\n",
    "        answer += a[i]*b[i]\r\n",
    "    return answer\r\n",
    "\r\n",
    "# a, b = [1,2,3,4],[-3,-1,0,2]\r\n",
    "a, b = [-1,0,1],[1,0,-1]\r\n",
    "solution(a, b)"
   ],
   "outputs": [
    {
     "output_type": "execute_result",
     "data": {
      "text/plain": [
       "-2"
      ]
     },
     "metadata": {},
     "execution_count": 117
    }
   ],
   "metadata": {}
  },
  {
   "cell_type": "markdown",
   "source": [
    "# 다트"
   ],
   "metadata": {}
  },
  {
   "cell_type": "code",
   "execution_count": 81,
   "source": [
    "def solution(dartResult):\r\n",
    "    answer = 0\r\n",
    "    num_lst = []\r\n",
    "    answer_lst = []\r\n",
    "    num = 0\r\n",
    "    flag = 1\r\n",
    "    for i in range(len(dartResult)):\r\n",
    "        if dartResult[i].isnumeric() and dartResult[i+1].isnumeric():\r\n",
    "            num_lst.append(int(dartResult[i:i+2]))\r\n",
    "            flag = 0\r\n",
    "        elif dartResult[i].isnumeric() and dartResult[i+1].isalpha():\r\n",
    "            if flag:\r\n",
    "                num_lst.append(int(dartResult[i]))\r\n",
    "            flag = 1\r\n",
    "        elif dartResult[i].isalpha():\r\n",
    "            if dartResult[i] == 'T':\r\n",
    "                answer_lst.append(pow(num_lst[num], 3))\r\n",
    "            elif dartResult[i] == 'D':\r\n",
    "                answer_lst.append(pow(num_lst[num], 2))\r\n",
    "            else:\r\n",
    "                answer_lst.append(num_lst[num])\r\n",
    "            num += 1\r\n",
    "        elif dartResult[i] == '#':\r\n",
    "            answer_lst[num-1] = -(answer_lst[num-1])\r\n",
    "        elif dartResult[i] == '*':\r\n",
    "            if len(answer_lst) > 1:\r\n",
    "                answer_lst[num-2] *= 2\r\n",
    "            answer_lst[num-1] *= 2\r\n",
    "    answer = sum(answer_lst)\r\n",
    "    return answer\r\n",
    "\r\n",
    "\r\n",
    "solution('5D*10D*0S')"
   ],
   "outputs": [
    {
     "output_type": "stream",
     "name": "stdout",
     "text": [
      "[5]\n",
      "[]\n",
      "0\n",
      "[5]\n",
      "[25]\n",
      "1\n",
      "[5]\n",
      "[50]\n",
      "1\n",
      "[5, 10]\n",
      "[50]\n",
      "1\n",
      "[5, 10]\n",
      "[50]\n",
      "1\n",
      "[5, 10]\n",
      "[50, 100]\n",
      "2\n",
      "[5, 10]\n",
      "[100, 200]\n",
      "2\n",
      "[5, 10, 0]\n",
      "[100, 200]\n",
      "2\n",
      "[5, 10, 0]\n",
      "[100, 200, 0]\n",
      "3\n"
     ]
    },
    {
     "output_type": "execute_result",
     "data": {
      "text/plain": [
       "300"
      ]
     },
     "metadata": {},
     "execution_count": 81
    }
   ],
   "metadata": {}
  },
  {
   "cell_type": "markdown",
   "source": [
    "# 폰켓몬"
   ],
   "metadata": {}
  },
  {
   "cell_type": "code",
   "execution_count": 2,
   "source": [
    "def solution(nums):\r\n",
    "    num_set = set(nums)\r\n",
    "    return min(len(num_set), (len(nums)//2))\r\n",
    "\r\n",
    "solution([3,3,3,2,2,2])"
   ],
   "outputs": [
    {
     "output_type": "execute_result",
     "data": {
      "text/plain": [
       "2"
      ]
     },
     "metadata": {},
     "execution_count": 2
    }
   ],
   "metadata": {}
  },
  {
   "cell_type": "markdown",
   "source": [
    "# 비밀지도"
   ],
   "metadata": {}
  },
  {
   "cell_type": "code",
   "execution_count": 40,
   "source": [
    "def solution(n, arr1, arr2):\r\n",
    "    answer = []\r\n",
    "    \r\n",
    "    def bin_lst(array):\r\n",
    "        for i in range(len(array)):\r\n",
    "            array[i] = bin(array[i])[2:]\r\n",
    "            while len(array[i]) < 5:\r\n",
    "                array[i] = ('0'+array[i])\r\n",
    "        return array\r\n",
    "    bin_lst1 = bin_lst(arr1)\r\n",
    "    bin_lst2 = bin_lst(arr2)\r\n",
    "    def bin_zip(array1, array2):\r\n",
    "        array = []\r\n",
    "        for i in range(len(array1)):\r\n",
    "            tmp = \"\"\r\n",
    "            for i, j in zip(array1[i], array2[i]):\r\n",
    "                if i == '0' and j == '0':\r\n",
    "                    tmp += '0'\r\n",
    "                else:\r\n",
    "                    tmp += '#'\r\n",
    "            array.append(tmp)\r\n",
    "        return array\r\n",
    "    answer = bin_zip(bin_lst1, bin_lst2)\r\n",
    "            \r\n",
    "        \r\n",
    "    \r\n",
    "    '''  \r\n",
    "    for i in range(len(bin_lst1)):\r\n",
    "        for k in bin_lst1[i]:\r\n",
    "            tmp = \"\"\r\n",
    "            for j in bin_lst2[i]:\r\n",
    "                print(k, j)\r\n",
    "                if int(k) == 0 and int(j) == 0:\r\n",
    "                    tmp += '0'\r\n",
    "                else:\r\n",
    "                    tmp += '#'\r\n",
    "            print(tmp)\r\n",
    "    '''\r\n",
    "    return answer\r\n",
    "\r\n",
    "\r\n",
    "\r\n",
    "solution(5, [9, 20, 28, 18, 11], [30, 1, 21, 17, 28])"
   ],
   "outputs": [
    {
     "output_type": "execute_result",
     "data": {
      "text/plain": [
       "['#####', '#0#0#', '###0#', '#00##', '#####']"
      ]
     },
     "metadata": {},
     "execution_count": 40
    }
   ],
   "metadata": {
    "scrolled": true
   }
  },
  {
   "cell_type": "code",
   "execution_count": 23,
   "source": [
    "def bin_lst(array):\r\n",
    "    for i in range(len(array)):\r\n",
    "        array[i] = bin(array[i])\r\n",
    "    return array\r\n",
    "bin_lst([9, 20, 28, 18, 11])"
   ],
   "outputs": [
    {
     "output_type": "execute_result",
     "data": {
      "text/plain": [
       "['0b1001', '0b10100', '0b11100', '0b10010', '0b1011']"
      ]
     },
     "metadata": {},
     "execution_count": 23
    }
   ],
   "metadata": {}
  },
  {
   "cell_type": "code",
   "execution_count": 41,
   "source": [
    "def solution(n, arr1, arr2):\r\n",
    "    answer = []\r\n",
    "    \r\n",
    "    def bin_lst(array):\r\n",
    "        for i in range(len(array)):\r\n",
    "            array[i] = bin(array[i])[2:]\r\n",
    "            while len(array[i]) < n:\r\n",
    "                array[i] = ('0'+array[i])\r\n",
    "        return array\r\n",
    "    bin_lst1 = bin_lst(arr1)\r\n",
    "    bin_lst2 = bin_lst(arr2)\r\n",
    "    def bin_zip(array1, array2):\r\n",
    "        array = []\r\n",
    "        for i in range(len(array1)):\r\n",
    "            tmp = \"\"\r\n",
    "            for i, j in zip(array1[i], array2[i]):\r\n",
    "                if i == '0' and j == '0':\r\n",
    "                    tmp += ' '\r\n",
    "                else:\r\n",
    "                    tmp += '#'\r\n",
    "            array.append(tmp)\r\n",
    "        return array\r\n",
    "    answer = bin_zip(bin_lst1, bin_lst2)\r\n",
    "    return answer\r\n",
    "\r\n",
    "solution(5, [9, 20, 28, 18, 11], [30, 1, 21, 17, 28])"
   ],
   "outputs": [
    {
     "output_type": "execute_result",
     "data": {
      "text/plain": [
       "['#####', '# # #', '### #', '#  ##', '#####']"
      ]
     },
     "metadata": {},
     "execution_count": 41
    }
   ],
   "metadata": {}
  },
  {
   "cell_type": "markdown",
   "source": [
    "# 약수의 개수와 덧셈"
   ],
   "metadata": {}
  },
  {
   "cell_type": "code",
   "execution_count": 12,
   "source": [
    "def solution(left, right):\r\n",
    "    answer = 0\r\n",
    "    def make_dict(left, right):\r\n",
    "        tmp = {}\r\n",
    "        for i in range(right-left+1):\r\n",
    "            tmp[left+i] = 1\r\n",
    "        return tmp\r\n",
    "    answer_dict = make_dict(left, right)\r\n",
    "    \r\n",
    "    for i in range(2, right+1):\r\n",
    "        for j in answer_dict.keys():\r\n",
    "            if j % i == 0:\r\n",
    "                answer_dict[j] += 1\r\n",
    "                \r\n",
    "    for i, j in answer_dict.items():\r\n",
    "        if j % 2 == 0:\r\n",
    "            answer += i\r\n",
    "        else:\r\n",
    "            answer -= i\r\n",
    "    return answer\r\n",
    "\r\n",
    "# solution(13, 17)\r\n",
    "solution(24, 27)"
   ],
   "outputs": [
    {
     "output_type": "stream",
     "name": "stdout",
     "text": [
      "{24: 8, 25: 3, 26: 4, 27: 4}\n"
     ]
    },
    {
     "output_type": "execute_result",
     "data": {
      "text/plain": [
       "52"
      ]
     },
     "metadata": {},
     "execution_count": 12
    }
   ],
   "metadata": {}
  },
  {
   "cell_type": "markdown",
   "source": [
    "# 부족한 금액 계산하기"
   ],
   "metadata": {}
  },
  {
   "cell_type": "code",
   "execution_count": 13,
   "source": [
    "def solution(price, money, count):\r\n",
    "    origin_price = price\r\n",
    "    for i in range(1, count): price += (i + 1) * origin_price\r\n",
    "    return (price - money) if (price - money) >= 0 else 0\r\n",
    "\r\n",
    "solution(3, 20, 4)"
   ],
   "outputs": [
    {
     "output_type": "execute_result",
     "data": {
      "text/plain": [
       "10"
      ]
     },
     "metadata": {},
     "execution_count": 13
    }
   ],
   "metadata": {
    "scrolled": true
   }
  },
  {
   "cell_type": "markdown",
   "source": [
    "# 상호평가"
   ],
   "metadata": {}
  },
  {
   "cell_type": "code",
   "execution_count": 49,
   "source": [
    "def solution(scores):\r\n",
    "    answer = ''\r\n",
    "    new_scores = []\r\n",
    "    for i in range(len(scores)):\r\n",
    "        new_score = []\r\n",
    "        for j in range(len(scores)):\r\n",
    "            new_score.append(scores[j][i])\r\n",
    "        new_scores.append(new_score)\r\n",
    "    for i in range(len(scores)):\r\n",
    "        if (new_scores[i][i] == max(new_scores[i]) and new_scores[i].count(new_scores[i][i]) == 1) or (new_scores[i][i] == min(new_scores[i]) and new_scores[i].count(new_scores[i][i]) == 1):\r\n",
    "            new_scores[i][i] = -1\r\n",
    "        score = (sum(new_scores[i]) + (-1 * -new_scores[i].count(-1))) / (len(new_scores[i]) - new_scores[i].count(-1))\r\n",
    "        answer += 'A' if score >= 90 else 'B' if score >= 80 else 'C' if score >= 70 else 'D' if score >= 50 else 'F'\r\n",
    "    return answer\r\n",
    "\r\n",
    "# solution([[100,90,98,88,65],[50,45,99,85,77],[47,88,95,80,67],[61,57,100,80,65],[24,90,94,75,65]])\r\n",
    "# solution([[70,49,90],[68,50,38],[73,31,100]])\r\n",
    "solution([[50,90],[50,87]])"
   ],
   "outputs": [
    {
     "output_type": "stream",
     "name": "stdout",
     "text": [
      "[[50, 50], [90, 87]]\n",
      "100 0\n",
      "50.0\n",
      "[[50, 50], [90, -1]]\n",
      "89 -1\n",
      "90.0\n"
     ]
    },
    {
     "output_type": "execute_result",
     "data": {
      "text/plain": [
       "'DA'"
      ]
     },
     "metadata": {},
     "execution_count": 49
    }
   ],
   "metadata": {}
  }
 ],
 "metadata": {
  "kernelspec": {
   "display_name": "Python 3",
   "language": "python",
   "name": "python3"
  },
  "language_info": {
   "codemirror_mode": {
    "name": "ipython",
    "version": 3
   },
   "file_extension": ".py",
   "mimetype": "text/x-python",
   "name": "python",
   "nbconvert_exporter": "python",
   "pygments_lexer": "ipython3",
   "version": "3.8.5"
  }
 },
 "nbformat": 4,
 "nbformat_minor": 4
}