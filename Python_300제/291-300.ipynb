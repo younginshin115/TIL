{
 "cells": [
  {
   "cell_type": "code",
   "execution_count": 2,
   "metadata": {},
   "outputs": [],
   "source": [
    "# 291\n",
    "f = open(\"매수종목1.txt\", \"w\")\n",
    "f.write(\"005930\\n005380\\n035420\")\n",
    "f.close()"
   ]
  },
  {
   "cell_type": "code",
   "execution_count": 3,
   "metadata": {},
   "outputs": [],
   "source": [
    "# 292\n",
    "f = open(\"매수종목2.txt\", \"w\")\n",
    "f.write(\"005930 삼성전자\\n005380 현대차\\n035420 NAVER\")\n",
    "f.close()"
   ]
  },
  {
   "cell_type": "code",
   "execution_count": 4,
   "metadata": {},
   "outputs": [],
   "source": [
    "# 293 *\n",
    "import csv\n",
    "\n",
    "f = open(\"매수종목.csv\", \"w\", encoding=\"cp949\")\n",
    "writer = csv.writer(f)\n",
    "writer.writerow([\"종목명\", \"종목코드\", \"PER\"])\n",
    "writer.writerow([\"삼성전자\", \"005930\", \"15.79\"])\n",
    "writer.writerow([\"NAVER\", \"035420\", \"55.82\"])\n",
    "f.close()"
   ]
  },
  {
   "cell_type": "code",
   "execution_count": 11,
   "metadata": {},
   "outputs": [
    {
     "name": "stdout",
     "output_type": "stream",
     "text": [
      "['005930', '005380', '035420']\n"
     ]
    }
   ],
   "source": [
    "# 294\n",
    "f = open(\"매수종목1.txt\", \"r\")\n",
    "s = f.readlines()\n",
    "f.close()\n",
    "\n",
    "s1 = map(lambda x : x.strip(\"\\n\"), s)\n",
    "print(list(s1))"
   ]
  },
  {
   "cell_type": "code",
   "execution_count": 28,
   "metadata": {},
   "outputs": [
    {
     "name": "stdout",
     "output_type": "stream",
     "text": [
      "{'005930': '삼성전자', '005380': '현대차', '035420': 'NAVER'}\n"
     ]
    }
   ],
   "source": [
    "# 295\n",
    "\n",
    "f = open(\"매수종목2.txt\", \"r\")\n",
    "r = f.read()\n",
    "f.close()\n",
    "\n",
    "r2 = r.split()\n",
    "dic = {}\n",
    "\n",
    "for i in range(0,len(r2)-1,2):\n",
    "    if  i < len(r2):\n",
    "        dic[r2[i]] = r2[i+1]\n",
    "    else:\n",
    "        pass\n",
    "    \n",
    "print(dic)"
   ]
  },
  {
   "cell_type": "code",
   "execution_count": 31,
   "metadata": {},
   "outputs": [
    {
     "name": "stdout",
     "output_type": "stream",
     "text": [
      "10.31\n",
      "0\n",
      "8.0\n"
     ]
    }
   ],
   "source": [
    "# 296\n",
    "per = [\"10.31\", \"\", \"8.00\"]\n",
    "\"\"\"\n",
    "for i in per:\n",
    "    print(float(i))\n",
    "\"\"\"\n",
    "for i in per:\n",
    "    try:\n",
    "        print(float(i))\n",
    "    except ValueError:\n",
    "        print(\"0\")\n"
   ]
  },
  {
   "cell_type": "code",
   "execution_count": 38,
   "metadata": {},
   "outputs": [
    {
     "data": {
      "text/plain": [
       "['10.31', 0.0, '8.00']"
      ]
     },
     "execution_count": 38,
     "metadata": {},
     "output_type": "execute_result"
    }
   ],
   "source": [
    "# 297\n",
    "per = [\"10.31\", \"\", \"8.00\"]\n",
    "per2 = []\n",
    "\n",
    "for i in per:\n",
    "    try:\n",
    "        float(i)\n",
    "        per2.append(i)\n",
    "    except ValueError:\n",
    "        i = 0\n",
    "        i = float(i)\n",
    "        per2.append(i)\n",
    "        \n",
    "per2"
   ]
  },
  {
   "cell_type": "code",
   "execution_count": 42,
   "metadata": {},
   "outputs": [
    {
     "data": {
      "text/plain": [
       "['10.31', 0.0, '8.00']"
      ]
     },
     "execution_count": 42,
     "metadata": {},
     "output_type": "execute_result"
    }
   ],
   "source": [
    "# 297 해답 - append를 두번 쓸 필요 없음\n",
    "\n",
    "per = [\"10.31\", \"\", \"8.00\"]\n",
    "per2 = []\n",
    "\n",
    "for i in per:\n",
    "    try:\n",
    "        float(i)\n",
    "    except ValueError:\n",
    "        i = 0\n",
    "        i = float(i)\n",
    "    per2.append(i)\n",
    "        \n",
    "per2"
   ]
  },
  {
   "cell_type": "code",
   "execution_count": 43,
   "metadata": {},
   "outputs": [
    {
     "name": "stdout",
     "output_type": "stream",
     "text": [
      "0으로 나눌 수 없습니다.\n",
      "4.0\n",
      "2.0\n",
      "1.3333333333333333\n"
     ]
    }
   ],
   "source": [
    "# 298\n",
    "for i in range(4):\n",
    "    try:\n",
    "        print(4 / i)\n",
    "    except ZeroDivisionError:\n",
    "        print(\"0으로 나눌 수 없습니다.\")\n",
    "    "
   ]
  },
  {
   "cell_type": "code",
   "execution_count": 50,
   "metadata": {},
   "outputs": [
    {
     "name": "stdout",
     "output_type": "stream",
     "text": [
      "1\n",
      "2\n",
      "3\n",
      "list index out of range\n",
      "list index out of range\n"
     ]
    }
   ],
   "source": [
    "# 299\n",
    "data = [1, 2, 3]\n",
    "\n",
    "for i in range(5):\n",
    "    try:\n",
    "        print(data[i])\n",
    "    except IndexError as err:\n",
    "        print(err)"
   ]
  },
  {
   "cell_type": "code",
   "execution_count": 52,
   "metadata": {},
   "outputs": [
    {
     "name": "stdout",
     "output_type": "stream",
     "text": [
      "10.31\n",
      "에러가 발행하지 않았습니다.\n",
      "종료합니다.\n",
      "에러가 발생했습니다.\n",
      "종료합니다.\n",
      "8.0\n",
      "에러가 발행하지 않았습니다.\n",
      "종료합니다.\n"
     ]
    }
   ],
   "source": [
    "# 300\n",
    "per = [\"10.31\", \"\", \"8.00\"]\n",
    "\n",
    "for i in per:\n",
    "    try:\n",
    "        print(float(i))\n",
    "    except:\n",
    "        print(\"에러가 발생했습니다.\")\n",
    "    else:\n",
    "        print(\"에러가 발행하지 않았습니다.\")\n",
    "    finally:\n",
    "        print(\"종료합니다.\")"
   ]
  }
 ],
 "metadata": {
  "kernelspec": {
   "display_name": "Python 3",
   "language": "python",
   "name": "python3"
  },
  "language_info": {
   "codemirror_mode": {
    "name": "ipython",
    "version": 3
   },
   "file_extension": ".py",
   "mimetype": "text/x-python",
   "name": "python",
   "nbconvert_exporter": "python",
   "pygments_lexer": "ipython3",
   "version": "3.8.5"
  }
 },
 "nbformat": 4,
 "nbformat_minor": 4
}
