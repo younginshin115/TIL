{
 "cells": [
  {
   "cell_type": "code",
   "execution_count": null,
   "metadata": {},
   "outputs": [],
   "source": [
    "# 251\n",
    "# 클래스: 붕어빵 틀\n",
    "# 객체: 클래스로 만들어낸 붕어빵\n",
    "# 인스턴스: 붕어빵 찍어내는 것"
   ]
  },
  {
   "cell_type": "code",
   "execution_count": 2,
   "metadata": {},
   "outputs": [],
   "source": [
    "# 252\n",
    "class Human:\n",
    "    pass"
   ]
  },
  {
   "cell_type": "code",
   "execution_count": null,
   "metadata": {},
   "outputs": [],
   "source": [
    "# 253\n",
    "class Human:\n",
    "    def __init__(self):\n",
    "        pass\n",
    "\n",
    "areun = Human()"
   ]
  },
  {
   "cell_type": "code",
   "execution_count": 3,
   "metadata": {},
   "outputs": [
    {
     "name": "stdout",
     "output_type": "stream",
     "text": [
      "응애응애\n"
     ]
    }
   ],
   "source": [
    "# 254\n",
    "class Human:\n",
    "    def __init__(self):\n",
    "        print(\"응애응애\")\n",
    "    \n",
    "areun = Human()"
   ]
  },
  {
   "cell_type": "code",
   "execution_count": 6,
   "metadata": {},
   "outputs": [
    {
     "name": "stdout",
     "output_type": "stream",
     "text": [
      "아름 25 여자\n",
      "아름\n"
     ]
    }
   ],
   "source": [
    "# 255\n",
    "class Human:\n",
    "    def __init__(self, name, age, gender):\n",
    "        self.name = name\n",
    "        self.age = age\n",
    "        self.gender = gender\n",
    "        print(name, age, gender)\n",
    "        \n",
    "areum = Human(\"아름\", 25, \"여자\")\n",
    "print(areum.name)"
   ]
  },
  {
   "cell_type": "code",
   "execution_count": 7,
   "metadata": {
    "scrolled": true
   },
   "outputs": [
    {
     "data": {
      "text/plain": [
       "25"
      ]
     },
     "execution_count": 7,
     "metadata": {},
     "output_type": "execute_result"
    }
   ],
   "source": [
    "# 256\n",
    "areum.age"
   ]
  },
  {
   "cell_type": "code",
   "execution_count": null,
   "metadata": {},
   "outputs": [],
   "source": [
    "# 257\n",
    "class Human:\n",
    "    def __init__(self, name, age, gender):\n",
    "        self.name = name\n",
    "        self.age = age\n",
    "        self.gender = gender\n",
    "        \n",
    "    def who(self):\n",
    "        print(\"이름 : {} 나이 : {} 성별 : {}\".format(self.name, self.age, self.gender))\n"
   ]
  },
  {
   "cell_type": "code",
   "execution_count": 9,
   "metadata": {},
   "outputs": [
    {
     "name": "stdout",
     "output_type": "stream",
     "text": [
      "이름 : 불명 나이 : 미상 성별 : 모름\n",
      "이름 : 아름 나이 : 25 성별 : 여자\n"
     ]
    }
   ],
   "source": [
    "# 258\n",
    "class Human:\n",
    "    def __init__(self, name, age, gender):\n",
    "        self.name = name\n",
    "        self.age = age\n",
    "        self.gender = gender\n",
    "    \n",
    "    def setInfo(self, name, age, gender):\n",
    "        self.name = name\n",
    "        self.age = age\n",
    "        self.gender = gender\n",
    "        \n",
    "    def who(self):\n",
    "        print(\"이름 : {} 나이 : {} 성별 : {}\".format(self.name, self.age, self.gender))\n",
    "\n",
    "areum = Human(\"불명\", \"미상\", \"모름\")\n",
    "areum.who()\n",
    "areum.setInfo(\"아름\", 25, \"여자\")\n",
    "areum.who()"
   ]
  },
  {
   "cell_type": "code",
   "execution_count": 10,
   "metadata": {
    "scrolled": true
   },
   "outputs": [
    {
     "name": "stdout",
     "output_type": "stream",
     "text": [
      "나의 죽음을 알리지 말라\n"
     ]
    }
   ],
   "source": [
    "# 259\n",
    "class Human:\n",
    "    def __init__(self, name, age, gender):\n",
    "        self.name = name\n",
    "        self.age = age\n",
    "        self.gender = gender\n",
    "    \n",
    "    def setInfo(self, name, age, gender):\n",
    "        self.name = name\n",
    "        self.age = age\n",
    "        self.gender = gender\n",
    "        \n",
    "    def who(self):\n",
    "        print(\"이름 : {} 나이 : {} 성별 : {}\".format(self.name, self.age, self.gender))\n",
    "\n",
    "    def __del__(self):\n",
    "        print(\"나의 죽음을 알리지 말라\")\n",
    "        \n",
    "\n",
    "areum = Human(\"아름\", 25, \"여자\")\n",
    "del areum"
   ]
  },
  {
   "cell_type": "code",
   "execution_count": 12,
   "metadata": {},
   "outputs": [
    {
     "name": "stdout",
     "output_type": "stream",
     "text": [
      "Oh my god\n"
     ]
    }
   ],
   "source": [
    "# 260 에러 원인 찾기\n",
    "\"\"\"\n",
    "class OMG : \n",
    "    def print() :\n",
    "        print(\"Oh my god\")\n",
    "\n",
    ">>> >>> myStock = OMG()\n",
    ">>> myStock.print()\n",
    "TypeError Traceback (most recent call last)\n",
    "<ipython-input-233-c85c04535b22> in <module>()\n",
    "----> myStock.print()\n",
    "\n",
    "TypeError: print() takes 0 positional arguments but 1 was given\n",
    "\n",
    "\"\"\"\n",
    "\n",
    "# self가 없음\n",
    "\n",
    "class OMG : \n",
    "    def print(self) :\n",
    "        print(\"Oh my god\")\n",
    "        \n",
    "mystock = OMG()\n",
    "mystock.print()"
   ]
  },
  {
   "cell_type": "code",
   "execution_count": 13,
   "metadata": {},
   "outputs": [],
   "source": [
    "# 261\n",
    "class Stock:\n",
    "    pass"
   ]
  },
  {
   "cell_type": "code",
   "execution_count": 14,
   "metadata": {},
   "outputs": [
    {
     "name": "stdout",
     "output_type": "stream",
     "text": [
      "삼성전자\n",
      "005930\n"
     ]
    }
   ],
   "source": [
    "# 262\n",
    "class Stock:\n",
    "    def __init__(self, name, code):\n",
    "        self.name = name\n",
    "        self.code = code\n",
    "\n",
    "Samsung = Stock(\"삼성전자\", \"005930\")\n",
    "print(Samsung.name)\n",
    "print(Samsung.code)"
   ]
  },
  {
   "cell_type": "code",
   "execution_count": 16,
   "metadata": {},
   "outputs": [
    {
     "data": {
      "text/plain": [
       "'삼성전자'"
      ]
     },
     "execution_count": 16,
     "metadata": {},
     "output_type": "execute_result"
    }
   ],
   "source": [
    "# 263\n",
    "class Stock:\n",
    "    def __init__(self, name, code):\n",
    "        self.name = name\n",
    "        self.code = code\n",
    "    def set_name(self, name):\n",
    "        self.name = name\n",
    "        \n",
    "a = Stock(None, None)\n",
    "a.set_name(\"삼성전자\")\n",
    "a.name"
   ]
  },
  {
   "cell_type": "code",
   "execution_count": 18,
   "metadata": {},
   "outputs": [
    {
     "data": {
      "text/plain": [
       "'005930'"
      ]
     },
     "execution_count": 18,
     "metadata": {},
     "output_type": "execute_result"
    }
   ],
   "source": [
    "# 264\n",
    "class Stock:\n",
    "    def __init__(self, name, code):\n",
    "        self.name = name\n",
    "        self.code = code\n",
    "    def set_name(self, name):\n",
    "        self.name = name\n",
    "    def set_code(self, code):\n",
    "        self.code = code\n",
    "\n",
    "a = Stock(None, None)\n",
    "a.set_code(\"005930\")\n",
    "a.code"
   ]
  },
  {
   "cell_type": "code",
   "execution_count": 19,
   "metadata": {},
   "outputs": [
    {
     "name": "stdout",
     "output_type": "stream",
     "text": [
      "종목명 : 삼성전자\n",
      "종목코드 : 005930\n"
     ]
    }
   ],
   "source": [
    "# 265\n",
    "class Stock:\n",
    "    def __init__(self, name, code):\n",
    "        self.name = name\n",
    "        self.code = code\n",
    "    def set_name(self, name):\n",
    "        self.name = name\n",
    "    def set_code(self, code):\n",
    "        self.code = code\n",
    "    def get_name(self):\n",
    "        print(\"종목명 :\", self.name)\n",
    "    def get_code(self):\n",
    "        print(\"종목코드 :\", self.code)\n",
    "\n",
    "a = Stock(\"삼성전자\", \"005930\")\n",
    "a.get_name()\n",
    "a.get_code()"
   ]
  },
  {
   "cell_type": "code",
   "execution_count": null,
   "metadata": {},
   "outputs": [],
   "source": [
    "# 266\n",
    "\n",
    "class Stock:\n",
    "    def __init__(self, name, code, per, pbr, dps):\n",
    "        self.name = name\n",
    "        self.code = code\n",
    "        self.per = per\n",
    "        self.pbr = pbr\n",
    "        self.dps = dps\n",
    "    def set_name(self, name):\n",
    "        self.name = name\n",
    "    def set_code(self, code):\n",
    "        self.code = code\n",
    "    def get_name(self):\n",
    "        return self.name\n",
    "    def get_code(self):\n",
    "        return self.code"
   ]
  },
  {
   "cell_type": "code",
   "execution_count": 21,
   "metadata": {},
   "outputs": [
    {
     "name": "stdout",
     "output_type": "stream",
     "text": [
      "2.83\n"
     ]
    }
   ],
   "source": [
    "# 267\n",
    "class Stock:\n",
    "    def __init__(self, name, code, per, pbr, dps):\n",
    "        self.name = name\n",
    "        self.code = code\n",
    "        self.per = per\n",
    "        self.pbr = pbr\n",
    "        self.dps = dps\n",
    "    def set_name(self, name):\n",
    "        self.name = name\n",
    "    def set_code(self, code):\n",
    "        self.code = code\n",
    "    def get_name(self):\n",
    "        return self.name\n",
    "    def get_code(self):\n",
    "        return self.code\n",
    "    \n",
    "a = Stock(\"삼성전자\", \"005930\", 15.79, 1.33, 2.83)\n",
    "print(a.dps)"
   ]
  },
  {
   "cell_type": "code",
   "execution_count": null,
   "metadata": {},
   "outputs": [],
   "source": [
    "# 268\n",
    "class Stock:\n",
    "    def __init__(self, name, code, per, pbr, dps):\n",
    "        self.name = name\n",
    "        self.code = code\n",
    "        self.per = per\n",
    "        self.pbr = pbr\n",
    "        self.dps = dps\n",
    "    def set_name(self, name):\n",
    "        self.name = name\n",
    "    def set_code(self, code):\n",
    "        self.code = code\n",
    "    def set_per(self, per):\n",
    "        self.per = per\n",
    "    def set_pbr(self, pbr):\n",
    "        self.pbr = pbr \n",
    "    def set_dps(self, dps):\n",
    "        self.dps = dps         \n",
    "    def get_name(self):\n",
    "        return self.name\n",
    "    def get_code(self):\n",
    "        return self.code"
   ]
  },
  {
   "cell_type": "code",
   "execution_count": 22,
   "metadata": {},
   "outputs": [
    {
     "name": "stdout",
     "output_type": "stream",
     "text": [
      "12.75\n"
     ]
    }
   ],
   "source": [
    "# 269\n",
    "class Stock:\n",
    "    def __init__(self, name, code, per, pbr, dps):\n",
    "        self.name = name\n",
    "        self.code = code\n",
    "        self.per = per\n",
    "        self.pbr = pbr\n",
    "        self.dps = dps\n",
    "    def set_name(self, name):\n",
    "        self.name = name\n",
    "    def set_code(self, code):\n",
    "        self.code = code\n",
    "    def set_per(self, per):\n",
    "        self.per = per\n",
    "    def set_pbr(self, pbr):\n",
    "        self.pbr = pbr \n",
    "    def set_dps(self, dps):\n",
    "        self.dps = dps         \n",
    "    def get_name(self):\n",
    "        return self.name\n",
    "    def get_code(self):\n",
    "        return self.code\n",
    "    \n",
    "a = Stock(\"삼성전자\", \"005930\", 15.79, 1.33, 2.83)\n",
    "a.set_per(12.75)\n",
    "print(a.per)\n"
   ]
  },
  {
   "cell_type": "code",
   "execution_count": 27,
   "metadata": {},
   "outputs": [
    {
     "name": "stdout",
     "output_type": "stream",
     "text": [
      "[<__main__.Stock object at 0x000001BAAA1AD340>, <__main__.Stock object at 0x000001BAAA1AD4F0>, <__main__.Stock object at 0x000001BAAA1ADF10>]\n",
      "005930 15.79\n",
      "005380 8.7\n",
      "066570 317.34\n"
     ]
    }
   ],
   "source": [
    "# 270\n",
    "class Stock:\n",
    "    def __init__(self, name, code, per, pbr, dps):\n",
    "        self.name = name\n",
    "        self.code = code\n",
    "        self.per = per\n",
    "        self.pbr = pbr\n",
    "        self.dps = dps\n",
    "    def set_name(self, name):\n",
    "        self.name = name\n",
    "    def set_code(self, code):\n",
    "        self.code = code\n",
    "    def set_per(self, per):\n",
    "        self.per = per\n",
    "    def set_pbr(self, pbr):\n",
    "        self.pbr = pbr \n",
    "    def set_dps(self, dps):\n",
    "        self.dps = dps         \n",
    "    def get_name(self):\n",
    "        return self.name\n",
    "    def get_code(self):\n",
    "        return self.code\n",
    "    \n",
    "a = Stock(\"삼성전자\", \"005930\", 15.79, 1.33, 2.83)\n",
    "b = Stock(\"현대차\",\"005380\", 8.70, 0.35, 4.27)\n",
    "c = Stock(\"LG전자\", \"066570\", 317.34, 0.69, 1.37)\n",
    "\n",
    "lst = []\n",
    "lst.append(a)\n",
    "lst.append(b)\n",
    "lst.append(c)\n",
    "print(lst)\n",
    "\n",
    "for i in lst:\n",
    "    print(i.code, i.per)"
   ]
  },
  {
   "cell_type": "code",
   "execution_count": 50,
   "metadata": {},
   "outputs": [],
   "source": [
    "# 271\n",
    "import random\n",
    "\n",
    "class Account:\n",
    "    def __init__(self, owner, balance):\n",
    "        self.bank = \"SC은행\"\n",
    "        self.owner = owner\n",
    "        self.balance = balance\n",
    "        \n",
    "        a1 = random.randint(1, 1000)\n",
    "        a2 = random.randint(1, 100)\n",
    "        a3 = random.randint(1, 1000000)\n",
    "        account_num = str(a1).zfill(3)+\"-\"+str(a2).zfill(2)+\"-\"+str(a3).zfill(6)\n",
    "        self.account_num = account_num\n",
    "\n",
    "shin = Account(\"신영인\", 3000)"
   ]
  },
  {
   "cell_type": "code",
   "execution_count": 53,
   "metadata": {},
   "outputs": [
    {
     "name": "stdout",
     "output_type": "stream",
     "text": [
      "1\n"
     ]
    }
   ],
   "source": [
    "# 272\n",
    "import random\n",
    "\n",
    "class Account:\n",
    "    cnt = 0\n",
    "    def __init__(self, owner, balance):\n",
    "        self.bank = \"SC은행\"\n",
    "        self.owner = owner\n",
    "        self.balance = balance\n",
    "        \n",
    "        a1 = random.randint(1, 1000)\n",
    "        a2 = random.randint(1, 100)\n",
    "        a3 = random.randint(1, 1000000)\n",
    "        account_num = str(a1).zfill(3)+\"-\"+str(a2).zfill(2)+\"-\"+str(a3).zfill(6)\n",
    "        self.account_num = account_num\n",
    "        Account.cnt += 1\n",
    "\n",
    "shin = Account(\"신영인\", 3000)\n",
    "  "
   ]
  },
  {
   "cell_type": "code",
   "execution_count": 57,
   "metadata": {},
   "outputs": [
    {
     "name": "stdout",
     "output_type": "stream",
     "text": [
      "1\n"
     ]
    }
   ],
   "source": [
    "# 273\n",
    "import random\n",
    "\n",
    "class Account:\n",
    "    cnt = 0\n",
    "    def __init__(self, owner, balance):\n",
    "        self.bank = \"SC은행\"\n",
    "        self.owner = owner\n",
    "        self.balance = balance\n",
    "        \n",
    "        a1 = random.randint(1, 1000)\n",
    "        a2 = random.randint(1, 100)\n",
    "        a3 = random.randint(1, 1000000)\n",
    "        account_num = str(a1).zfill(3)+\"-\"+str(a2).zfill(2)+\"-\"+str(a3).zfill(6)\n",
    "        self.account_num = account_num\n",
    "        Account.cnt += 1\n",
    "    def get_account_num(self):\n",
    "        print(Account.cnt)\n",
    "shin = Account(\"신영인\", 3000)\n",
    "Account.get_account_num()"
   ]
  },
  {
   "cell_type": "code",
   "execution_count": 66,
   "metadata": {},
   "outputs": [
    {
     "name": "stdout",
     "output_type": "stream",
     "text": [
      "5000\n"
     ]
    }
   ],
   "source": [
    "# 274\n",
    "import random\n",
    "\n",
    "class Account:\n",
    "    cnt = 0\n",
    "    def __init__(self, owner, balance):\n",
    "        self.bank = \"SC은행\"\n",
    "        self.owner = owner\n",
    "        self.balance = balance\n",
    "        \n",
    "        a1 = random.randint(1, 1000)\n",
    "        a2 = random.randint(1, 100)\n",
    "        a3 = random.randint(1, 1000000)\n",
    "        account_num = str(a1).zfill(3)+\"-\"+str(a2).zfill(2)+\"-\"+str(a3).zfill(6)\n",
    "        self.account_num = account_num\n",
    "        Account.cnt += 1\n",
    "    def get_account_num(self):\n",
    "        print(Account.cnt)\n",
    "    def deposit(self, num):\n",
    "        if num >= 1:\n",
    "            self.balance += num\n",
    "            print(self.balance)\n",
    "shin = Account(\"신영인\", 3000)\n",
    "shin.deposit(2000)"
   ]
  },
  {
   "cell_type": "code",
   "execution_count": 9,
   "metadata": {},
   "outputs": [
    {
     "name": "stdout",
     "output_type": "stream",
     "text": [
      "잔고가 부족합니다\n"
     ]
    }
   ],
   "source": [
    "# 275\n",
    "import random\n",
    "\n",
    "class Account:\n",
    "    cnt = 0\n",
    "    def __init__(self, owner, balance):\n",
    "        self.bank = \"SC은행\"\n",
    "        self.owner = owner\n",
    "        self.balance = balance\n",
    "        \n",
    "        a1 = random.randint(1, 1000)\n",
    "        a2 = random.randint(1, 100)\n",
    "        a3 = random.randint(1, 1000000)\n",
    "        account_num = str(a1).zfill(3)+\"-\"+str(a2).zfill(2)+\"-\"+str(a3).zfill(6)\n",
    "        self.account_num = account_num\n",
    "        Account.cnt += 1\n",
    "    def get_account_num(self):\n",
    "        print(Account.cnt)\n",
    "    def deposit(self, num):\n",
    "        if num >= 1:\n",
    "            self.balance += num\n",
    "        else:\n",
    "            print(\"입금은 최소 1원부터 가능합니다\")\n",
    "    def withdraw(self, num2):\n",
    "        if num2 <= self.balance:\n",
    "            self.balance -= num2\n",
    "        else:\n",
    "            print(\"잔고가 부족합니다\")\n",
    "\n",
    "\n",
    "shin = Account(\"신영인\", 3000)\n",
    "shin.withdraw(4000)"
   ]
  },
  {
   "cell_type": "code",
   "execution_count": 13,
   "metadata": {},
   "outputs": [
    {
     "name": "stdout",
     "output_type": "stream",
     "text": [
      "은행이름 : SC은행\n",
      "예금주 : 파이썬\n",
      "계좌번호 : 319-42-716662\n",
      "잔고 : 10,000원\n"
     ]
    }
   ],
   "source": [
    "# 276\n",
    "class Account:\n",
    "    cnt = 0\n",
    "    def __init__(self, owner, balance):\n",
    "        self.bank = \"SC은행\"\n",
    "        self.owner = owner\n",
    "        self.balance = balance\n",
    "        \n",
    "        a1 = random.randint(1, 1000)\n",
    "        a2 = random.randint(1, 100)\n",
    "        a3 = random.randint(1, 1000000)\n",
    "        account_num = str(a1).zfill(3)+\"-\"+str(a2).zfill(2)+\"-\"+str(a3).zfill(6)\n",
    "        self.account_num = account_num\n",
    "        Account.cnt += 1\n",
    "    def get_account_num(self):\n",
    "        print(Account.cnt)\n",
    "    def deposit(self, num):\n",
    "        if num >= 1:\n",
    "            self.balance += num\n",
    "        else:\n",
    "            print(\"입금은 최소 1원부터 가능합니다\")\n",
    "    def withdraw(self, num2):\n",
    "        if num2 <= self.balance:\n",
    "            self.balance -= num2\n",
    "        else:\n",
    "            print(\"잔고가 부족합니다\")\n",
    "    def display_info(self):\n",
    "        print(\"은행이름 :\", self.bank)\n",
    "        print(\"예금주 :\", self.owner)\n",
    "        print(\"계좌번호 :\", self.account_num)\n",
    "        print(\"잔고 :\", format(self.balance, ',')+\"원\")\n",
    "\n",
    "\n",
    "python = Account(\"파이썬\", 10000)\n",
    "python.display_info()"
   ]
  },
  {
   "cell_type": "code",
   "execution_count": 16,
   "metadata": {},
   "outputs": [
    {
     "name": "stdout",
     "output_type": "stream",
     "text": [
      "20000\n",
      "30000\n",
      "40000\n",
      "50000\n",
      "60600.0\n"
     ]
    }
   ],
   "source": [
    "# 277\n",
    "class Account:\n",
    "    cnt = 0\n",
    "    dp_cnt = 0\n",
    "    def __init__(self, owner, balance):\n",
    "        self.bank = \"SC은행\"\n",
    "        self.owner = owner\n",
    "        self.balance = balance\n",
    "        \n",
    "        a1 = random.randint(1, 1000)\n",
    "        a2 = random.randint(1, 100)\n",
    "        a3 = random.randint(1, 1000000)\n",
    "        account_num = str(a1).zfill(3)+\"-\"+str(a2).zfill(2)+\"-\"+str(a3).zfill(6)\n",
    "        self.account_num = account_num\n",
    "        Account.cnt += 1\n",
    "    def get_account_num(self):\n",
    "        print(Account.cnt)\n",
    "    def deposit(self, num):\n",
    "        if num >= 1:\n",
    "            self.balance += num\n",
    "            Account.dp_cnt += 1\n",
    "            if Account.dp_cnt % 5 == 0:\n",
    "                self.balance *= 1.01\n",
    "            print(self.balance)\n",
    "        else:\n",
    "            print(\"입금은 최소 1원부터 가능합니다\")\n",
    "        \n",
    "    def withdraw(self, num2):\n",
    "        if num2 <= self.balance:\n",
    "            self.balance -= num2\n",
    "        else:\n",
    "            print(\"잔고가 부족합니다\")\n",
    "    def display_info(self):\n",
    "        print(\"은행이름 :\", self.bank)\n",
    "        print(\"예금주 :\", self.owner)\n",
    "        print(\"계좌번호 :\", self.account_num)\n",
    "        print(\"잔고 :\", format(self.balance, ',')+\"원\")\n",
    "\n",
    "\n",
    "bank = Account(\"파이썬\", 10000)\n",
    "bank.deposit(10000)\n",
    "bank.deposit(10000)\n",
    "bank.deposit(10000)\n",
    "bank.deposit(10000)\n",
    "bank.deposit(10000)"
   ]
  },
  {
   "cell_type": "code",
   "execution_count": 17,
   "metadata": {},
   "outputs": [
    {
     "name": "stdout",
     "output_type": "stream",
     "text": [
      "[<__main__.Account object at 0x0000026399F75760>, <__main__.Account object at 0x0000026399F75C40>, <__main__.Account object at 0x0000026399F758E0>]\n"
     ]
    }
   ],
   "source": [
    "# 278\n",
    "class Account:\n",
    "    cnt = 0\n",
    "    dp_cnt = 0\n",
    "    def __init__(self, owner, balance):\n",
    "        self.bank = \"SC은행\"\n",
    "        self.owner = owner\n",
    "        self.balance = balance\n",
    "        \n",
    "        a1 = random.randint(1, 1000)\n",
    "        a2 = random.randint(1, 100)\n",
    "        a3 = random.randint(1, 1000000)\n",
    "        account_num = str(a1).zfill(3)+\"-\"+str(a2).zfill(2)+\"-\"+str(a3).zfill(6)\n",
    "        self.account_num = account_num\n",
    "        Account.cnt += 1\n",
    "    def get_account_num(self):\n",
    "        print(Account.cnt)\n",
    "    def deposit(self, num):\n",
    "        if num >= 1:\n",
    "            self.balance += num\n",
    "            Account.dp_cnt += 1\n",
    "            if Account.dp_cnt % 5 == 0:\n",
    "                self.balance *= 1.01\n",
    "        else:\n",
    "            print(\"입금은 최소 1원부터 가능합니다\")\n",
    "        \n",
    "    def withdraw(self, num2):\n",
    "        if num2 <= self.balance:\n",
    "            self.balance -= num2\n",
    "        else:\n",
    "            print(\"잔고가 부족합니다\")\n",
    "    def display_info(self):\n",
    "        print(\"은행이름 :\", self.bank)\n",
    "        print(\"예금주 :\", self.owner)\n",
    "        print(\"계좌번호 :\", self.account_num)\n",
    "        print(\"잔고 :\", format(self.balance, ',')+\"원\")\n",
    "\n",
    "\n",
    "bank1 = Account(\"파이썬\", 10000)\n",
    "bank2 = Account(\"자바\", 10000)\n",
    "bank3 = Account(\"스칼라\", 10000)\n",
    "\n",
    "bank_lst = [bank1, bank2, bank3]\n",
    "print(bank_lst)"
   ]
  },
  {
   "cell_type": "code",
   "execution_count": 30,
   "metadata": {},
   "outputs": [
    {
     "name": "stdout",
     "output_type": "stream",
     "text": [
      "은행이름 : SC은행\n",
      "예금주 : 자바\n",
      "계좌번호 : 020-56-345468\n",
      "잔고 : 1,000,000원\n"
     ]
    }
   ],
   "source": [
    "# 279\n",
    "class Account:\n",
    "    cnt = 0\n",
    "    dp_cnt = 0\n",
    "    def __init__(self, owner, balance):\n",
    "        self.bank = \"SC은행\"\n",
    "        self.owner = owner\n",
    "        self.balance = balance\n",
    "        \n",
    "        a1 = random.randint(1, 1000)\n",
    "        a2 = random.randint(1, 100)\n",
    "        a3 = random.randint(1, 1000000)\n",
    "        account_num = str(a1).zfill(3)+\"-\"+str(a2).zfill(2)+\"-\"+str(a3).zfill(6)\n",
    "        self.account_num = account_num\n",
    "        Account.cnt += 1\n",
    "    def get_account_num(self):\n",
    "        print(Account.cnt)\n",
    "    def deposit(self, num):\n",
    "        if num >= 1:\n",
    "            self.balance += num\n",
    "            Account.dp_cnt += 1\n",
    "            if Account.dp_cnt % 5 == 0:\n",
    "                self.balance *= 1.01\n",
    "        else:\n",
    "            print(\"입금은 최소 1원부터 가능합니다\")\n",
    "        \n",
    "    def withdraw(self, num2):\n",
    "        if num2 <= self.balance:\n",
    "            self.balance -= num2\n",
    "        else:\n",
    "            print(\"잔고가 부족합니다\")\n",
    "    def display_info(self):\n",
    "        print(\"은행이름 :\", self.bank)\n",
    "        print(\"예금주 :\", self.owner)\n",
    "        print(\"계좌번호 :\", self.account_num)\n",
    "        print(\"잔고 :\", format(self.balance, ',')+\"원\")\n",
    "\n",
    "\n",
    "bank1 = Account(\"파이썬\", 10000)\n",
    "bank2 = Account(\"자바\", 1000000)\n",
    "bank3 = Account(\"스칼라\", 10000)\n",
    "\n",
    "bank_lst = [bank1, bank2, bank3]\n",
    "\n",
    "for i in bank_lst:\n",
    "    if i.balance >= 1000000:\n",
    "        i.display_info()"
   ]
  },
  {
   "cell_type": "code",
   "execution_count": 70,
   "metadata": {},
   "outputs": [
    {
     "name": "stdout",
     "output_type": "stream",
     "text": [
      "[1] 입금 : 1000원, 잔액 : 11000원\n",
      "[2] 입금 : 2000원, 잔액 : 13000원\n",
      "[3] 입금 : 3000원, 잔액 : 16000원\n",
      "\n",
      "[1] 출금 : 1000원, 잔액 : 15000원\n",
      "[2] 출금 : 2000원, 잔액 : 13000원\n",
      "[3] 출금 : 3000원, 잔액 : 10000원\n"
     ]
    }
   ],
   "source": [
    "# 279\n",
    "class Account:\n",
    "    cnt = 0\n",
    "    dp_cnt = 0\n",
    "    dp_lst = []\n",
    "    wd_lst = []\n",
    "    dp_total = []\n",
    "    wd_total = []\n",
    "    def __init__(self, owner, balance):\n",
    "        self.bank = \"SC은행\"\n",
    "        self.owner = owner\n",
    "        self.balance = balance\n",
    "        \n",
    "        a1 = random.randint(1, 1000)\n",
    "        a2 = random.randint(1, 100)\n",
    "        a3 = random.randint(1, 1000000)\n",
    "        account_num = str(a1).zfill(3)+\"-\"+str(a2).zfill(2)+\"-\"+str(a3).zfill(6)\n",
    "        self.account_num = account_num\n",
    "        Account.cnt += 1\n",
    "    def get_account_num(self):\n",
    "        print(Account.cnt)\n",
    "    def deposit(self, num):\n",
    "        if num >= 1:\n",
    "            self.balance += num\n",
    "            Account.dp_cnt += 1\n",
    "            if Account.dp_cnt % 5 == 0:\n",
    "                self.balance *= 1.01\n",
    "            Account.dp_lst.append(num)\n",
    "            Account.dp_total.append(self.balance)\n",
    "        else:\n",
    "            print(\"입금은 최소 1원부터 가능합니다\")\n",
    "        \n",
    "    def withdraw(self, num2):\n",
    "        if num2 <= self.balance:\n",
    "            self.balance -= num2\n",
    "            Account.wd_lst.append(num2)\n",
    "            Account.wd_total.append(self.balance)\n",
    "        else:\n",
    "            print(\"잔고가 부족합니다\")\n",
    "    def display_info(self):\n",
    "        print(\"은행이름 :\", self.bank)\n",
    "        print(\"예금주 :\", self.owner)\n",
    "        print(\"계좌번호 :\", self.account_num)\n",
    "        print(\"잔고 :\", format(self.balance, ',')+\"원\")\n",
    "    def deposit_history(self):\n",
    "        for i in range(len(self.dp_lst)):\n",
    "            print(\"[{}] 입금 : {}원, 잔액 : {}원\".format(i+1, Account.dp_lst[i], Account.dp_total[i]))\n",
    "    def withdraw_history(self):\n",
    "        for i in range(len(self.wd_lst)):\n",
    "            print(\"[{}] 출금 : {}원, 잔액 : {}원\".format(i+1, Account.wd_lst[i], Account.wd_total[i]))            \n",
    "\n",
    "bank1 = Account(\"파이썬\", 10000)\n",
    "bank1.deposit(1000)\n",
    "bank1.deposit(2000)\n",
    "bank1.deposit(3000)\n",
    "bank1.withdraw(1000)\n",
    "bank1.withdraw(2000)\n",
    "bank1.withdraw(3000)\n",
    "bank1.deposit_history()\n",
    "print()\n",
    "bank1.withdraw_history()"
   ]
  },
  {
   "cell_type": "code",
   "execution_count": 71,
   "metadata": {},
   "outputs": [
    {
     "name": "stdout",
     "output_type": "stream",
     "text": [
      "2\n",
      "1000\n"
     ]
    }
   ],
   "source": [
    "# 281\n",
    "class 차:\n",
    "    def __init__(self, 바퀴, 가격):\n",
    "        self.바퀴 = 바퀴\n",
    "        self.가격 = 가격\n",
    "    \n",
    "car = 차(2, 1000)\n",
    "print(car.바퀴)\n",
    "print(car.가격)"
   ]
  },
  {
   "cell_type": "code",
   "execution_count": 80,
   "metadata": {},
   "outputs": [
    {
     "name": "stdout",
     "output_type": "stream",
     "text": [
      "3\n",
      "100\n"
     ]
    }
   ],
   "source": [
    "# 282 # 283\n",
    "class 차:\n",
    "    def __init__(self, 바퀴, 가격):\n",
    "        self.바퀴 = 바퀴\n",
    "        self.가격 = 가격\n",
    "\n",
    "class 자전차(차):\n",
    "    def __init__(self, 바퀴, 가격):\n",
    "        차.__init__(self, 바퀴, 가격)\n",
    "\n",
    "a = 자전차(3, 100)\n",
    "print(a.바퀴)\n",
    "print(a.가격)"
   ]
  },
  {
   "cell_type": "code",
   "execution_count": 81,
   "metadata": {},
   "outputs": [
    {
     "data": {
      "text/plain": [
       "'시마노'"
      ]
     },
     "execution_count": 81,
     "metadata": {},
     "output_type": "execute_result"
    }
   ],
   "source": [
    "# 284\n",
    "class 차:\n",
    "    def __init__(self, 바퀴, 가격):\n",
    "        self.바퀴 = 바퀴\n",
    "        self.가격 = 가격\n",
    "\n",
    "class 자전차(차):\n",
    "    def __init__(self, 바퀴, 가격, 구동계):\n",
    "        차.__init__(self, 바퀴, 가격)\n",
    "        self.구동계 = 구동계\n",
    "\n",
    "bicycle = 자전차(3, 100, '시마노')\n",
    "bicycle.구동계"
   ]
  },
  {
   "cell_type": "code",
   "execution_count": 84,
   "metadata": {},
   "outputs": [
    {
     "name": "stdout",
     "output_type": "stream",
     "text": [
      "바퀴수 : 4\n",
      "가격 : 1000\n"
     ]
    }
   ],
   "source": [
    "# 285\n",
    "class 차:\n",
    "    def __init__(self, 바퀴, 가격):\n",
    "        self.바퀴 = 바퀴\n",
    "        self.가격 = 가격\n",
    "    def 정보(self):\n",
    "        print(\"바퀴수 : {}\\n가격 : {}\".format(self.바퀴, self.가격))\n",
    "\n",
    "class 자전차(차):\n",
    "    def __init__(self, 바퀴, 가격, 구동계):\n",
    "        차.__init__(self, 바퀴, 가격)\n",
    "        self.구동계 = 구동계\n",
    "        \n",
    "class 자동차(차):\n",
    "    def __init__(self, 바퀴, 가격):\n",
    "        차.__init__(self, 바퀴, 가격)\n",
    "\n",
    "\n",
    "car = 자동차(4, 1000)\n",
    "car.정보()"
   ]
  },
  {
   "cell_type": "code",
   "execution_count": 85,
   "metadata": {},
   "outputs": [
    {
     "name": "stdout",
     "output_type": "stream",
     "text": [
      "바퀴수 : 2\n",
      "가격 : 100\n"
     ]
    }
   ],
   "source": [
    "# 286\n",
    "class 차:\n",
    "    def __init__(self, 바퀴, 가격):\n",
    "        self.바퀴 = 바퀴\n",
    "        self.가격 = 가격\n",
    "    def 정보(self):\n",
    "        print(\"바퀴수 : {}\\n가격 : {}\".format(self.바퀴, self.가격))\n",
    "\n",
    "class 자전차(차):\n",
    "    def __init__(self, 바퀴, 가격, 구동계):\n",
    "        차.__init__(self, 바퀴, 가격)\n",
    "        self.구동계 = 구동계\n",
    "        \n",
    "class 자동차(차):\n",
    "    def __init__(self, 바퀴, 가격):\n",
    "        차.__init__(self, 바퀴, 가격)\n",
    "        \n",
    "bicycle = 자전차(2, 100, \"시마노\")\n",
    "bicycle.정보()\n"
   ]
  },
  {
   "cell_type": "code",
   "execution_count": 90,
   "metadata": {},
   "outputs": [
    {
     "name": "stdout",
     "output_type": "stream",
     "text": [
      "바퀴수 : 2\n",
      "가격 : 100\n",
      "구동계 : 시마노\n"
     ]
    }
   ],
   "source": [
    "# 287\n",
    "class 차:\n",
    "    def __init__(self, 바퀴, 가격):\n",
    "        self.바퀴 = 바퀴\n",
    "        self.가격 = 가격\n",
    "    def 정보(self):\n",
    "        print(\"바퀴수 : {}\\n가격 : {}\".format(self.바퀴, self.가격))\n",
    "\n",
    "class 자전차(차):\n",
    "    def __init__(self, 바퀴, 가격, 구동계):\n",
    "        차.__init__(self, 바퀴, 가격)\n",
    "        self.구동계 = 구동계\n",
    "    def 정보(self):\n",
    "        super().정보()\n",
    "        print(\"구동계 :\", self.구동계)\n",
    "        \n",
    "class 자동차(차):\n",
    "    def __init__(self, 바퀴, 가격):\n",
    "        차.__init__(self, 바퀴, 가격)\n",
    "\n",
    "\n",
    "bicycle = 자전차(2, 100, \"시마노\")\n",
    "bicycle.정보()"
   ]
  },
  {
   "cell_type": "code",
   "execution_count": 92,
   "metadata": {},
   "outputs": [
    {
     "name": "stdout",
     "output_type": "stream",
     "text": [
      "자식호출\n"
     ]
    }
   ],
   "source": [
    "# 288 # 결과예측문제\n",
    "class 부모:\n",
    "    def 호출(self):\n",
    "        print(\"부모호출\")\n",
    "\n",
    "class 자식(부모):\n",
    "    def 호출(self):\n",
    "        print(\"자식호출\")\n",
    "\n",
    "나 = 자식()\n",
    "나.호출()\n"
   ]
  },
  {
   "cell_type": "code",
   "execution_count": 93,
   "metadata": {},
   "outputs": [
    {
     "name": "stdout",
     "output_type": "stream",
     "text": [
      "자식생성\n"
     ]
    }
   ],
   "source": [
    "# 289 # 결과예측문제\n",
    "class 부모:\n",
    "    def __init__(self):\n",
    "        print(\"부모생성\")\n",
    "\n",
    "class 자식(부모):\n",
    "    def __init__(self):\n",
    "        print(\"자식생성\")\n",
    "        \n",
    "나 = 자식()"
   ]
  },
  {
   "cell_type": "code",
   "execution_count": 94,
   "metadata": {},
   "outputs": [
    {
     "name": "stdout",
     "output_type": "stream",
     "text": [
      "자식생성\n",
      "부모생성\n"
     ]
    }
   ],
   "source": [
    "# 290 # 결과 예측 문제\n",
    "class 부모:\n",
    "    def __init__(self):\n",
    "        print(\"부모생성\")\n",
    "\n",
    "class 자식(부모):\n",
    "    def __init__(self):\n",
    "        print(\"자식생성\")\n",
    "        super().__init__()\n",
    "\n",
    "나 = 자식()"
   ]
  }
 ],
 "metadata": {
  "kernelspec": {
   "display_name": "Python 3",
   "language": "python",
   "name": "python3"
  },
  "language_info": {
   "codemirror_mode": {
    "name": "ipython",
    "version": 3
   },
   "file_extension": ".py",
   "mimetype": "text/x-python",
   "name": "python",
   "nbconvert_exporter": "python",
   "pygments_lexer": "ipython3",
   "version": "3.8.5"
  }
 },
 "nbformat": 4,
 "nbformat_minor": 4
}
