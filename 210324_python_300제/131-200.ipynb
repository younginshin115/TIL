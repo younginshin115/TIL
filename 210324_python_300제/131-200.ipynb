{
 "cells": [
  {
   "cell_type": "code",
   "execution_count": 1,
   "metadata": {},
   "outputs": [
    {
     "name": "stdout",
     "output_type": "stream",
     "text": [
      "사과\n",
      "귤\n",
      "수박\n"
     ]
    }
   ],
   "source": [
    "# 131 # 결과확인문제\n",
    "과일 = [\"사과\", \"귤\", \"수박\"]\n",
    "for 변수 in 과일:\n",
    "    print(변수)"
   ]
  },
  {
   "cell_type": "code",
   "execution_count": 2,
   "metadata": {},
   "outputs": [
    {
     "name": "stdout",
     "output_type": "stream",
     "text": [
      "#####\n",
      "#####\n",
      "#####\n"
     ]
    }
   ],
   "source": [
    "# 132 # 결과확인문제\n",
    "과일 = [\"사과\", \"귤\", \"수박\"]\n",
    "for 변수 in 과일:\n",
    "  print(\"#####\")"
   ]
  },
  {
   "cell_type": "code",
   "execution_count": 3,
   "metadata": {},
   "outputs": [
    {
     "name": "stdout",
     "output_type": "stream",
     "text": [
      "A\n",
      "B\n",
      "C\n",
      "A\n",
      "B\n",
      "C\n"
     ]
    }
   ],
   "source": [
    "# 133\n",
    "for 변수 in [\"A\", \"B\", \"C\"]:\n",
    "  print(변수)\n",
    "\n",
    "print(\"A\\nB\\nC\")"
   ]
  },
  {
   "cell_type": "code",
   "execution_count": 5,
   "metadata": {},
   "outputs": [
    {
     "name": "stdout",
     "output_type": "stream",
     "text": [
      "출력: A\n",
      "출력: B\n",
      "출력: C\n",
      "출력: A\n",
      "출력: B\n",
      "출력: C\n"
     ]
    }
   ],
   "source": [
    "# 134\n",
    "for 변수 in [\"A\", \"B\", \"C\"]:\n",
    "  print(\"출력:\", 변수)\n",
    "\n",
    "print(\"출력: A\\n출력: B\\n출력: C\")"
   ]
  },
  {
   "cell_type": "code",
   "execution_count": 6,
   "metadata": {
    "scrolled": true
   },
   "outputs": [
    {
     "name": "stdout",
     "output_type": "stream",
     "text": [
      "변환: a\n",
      "변환: b\n",
      "변환: c\n",
      "변환: a\n",
      "변환: b\n",
      "변환: c\n"
     ]
    }
   ],
   "source": [
    "# 135\n",
    "for 변수 in [\"A\", \"B\", \"C\"]:\n",
    "  b = 변수.lower()\n",
    "  print(\"변환:\", b)\n",
    "print(\"변환: a\\n변환: b\\n변환: c\")"
   ]
  },
  {
   "cell_type": "code",
   "execution_count": 7,
   "metadata": {
    "scrolled": true
   },
   "outputs": [
    {
     "name": "stdout",
     "output_type": "stream",
     "text": [
      "10\n",
      "20\n",
      "30\n",
      "10\n",
      "20\n",
      "30\n"
     ]
    }
   ],
   "source": [
    "# 136\n",
    "변수 = 10\n",
    "print(변수)\n",
    "변수 = 20\n",
    "print(변수)\n",
    "변수 = 30\n",
    "print(변수)\n",
    "\n",
    "for i in [10, 20, 30]:\n",
    "    print(i)"
   ]
  },
  {
   "cell_type": "code",
   "execution_count": 9,
   "metadata": {},
   "outputs": [
    {
     "name": "stdout",
     "output_type": "stream",
     "text": [
      "10\n",
      "20\n",
      "30\n",
      "10\n",
      "20\n",
      "30\n"
     ]
    }
   ],
   "source": [
    "# 137\n",
    "print(10)\n",
    "print(20)\n",
    "print(30)\n",
    "\n",
    "for i in [10, 20, 30]:\n",
    "    print(i)"
   ]
  },
  {
   "cell_type": "code",
   "execution_count": 10,
   "metadata": {},
   "outputs": [
    {
     "name": "stdout",
     "output_type": "stream",
     "text": [
      "10\n",
      "-------\n",
      "20\n",
      "-------\n",
      "30\n",
      "-------\n",
      "10\n",
      "-------\n",
      "20\n",
      "-------\n",
      "30\n",
      "-------\n"
     ]
    }
   ],
   "source": [
    "# 138\n",
    "print(10)\n",
    "print(\"-------\")\n",
    "print(20)\n",
    "print(\"-------\")\n",
    "print(30)\n",
    "print(\"-------\")\n",
    "\n",
    "for i in [10, 20, 30]:\n",
    "    print(i)\n",
    "    print(\"-------\")"
   ]
  },
  {
   "cell_type": "code",
   "execution_count": 11,
   "metadata": {},
   "outputs": [
    {
     "name": "stdout",
     "output_type": "stream",
     "text": [
      "++++\n",
      "10\n",
      "20\n",
      "30\n",
      "++++\n",
      "10\n",
      "20\n",
      "30\n"
     ]
    }
   ],
   "source": [
    "# 139\n",
    "print(\"++++\")\n",
    "print(10)\n",
    "print(20)\n",
    "print(30)\n",
    "\n",
    "cnt = 0\n",
    "for i in [10, 20, 30]:\n",
    "    if cnt == 0:\n",
    "        print(\"++++\")\n",
    "        cnt += 1\n",
    "    else:\n",
    "        pass\n",
    "    print(i)"
   ]
  },
  {
   "cell_type": "code",
   "execution_count": 16,
   "metadata": {},
   "outputs": [
    {
     "name": "stdout",
     "output_type": "stream",
     "text": [
      "-------\n",
      "-------\n",
      "-------\n",
      "-------\n",
      "[0, 1, 2, 3]\n"
     ]
    }
   ],
   "source": [
    "# 140\n",
    "for i in range(4):\n",
    "    print(\"-------\")"
   ]
  },
  {
   "cell_type": "code",
   "execution_count": 17,
   "metadata": {},
   "outputs": [
    {
     "name": "stdout",
     "output_type": "stream",
     "text": [
      "110\n",
      "210\n",
      "310\n"
     ]
    }
   ],
   "source": [
    "# 141\n",
    "리스트 = [100, 200, 300]\n",
    "부가세 = 10\n",
    "\n",
    "for i in 리스트:\n",
    "    print(i + 부가세)"
   ]
  },
  {
   "cell_type": "code",
   "execution_count": 18,
   "metadata": {
    "scrolled": true
   },
   "outputs": [
    {
     "name": "stdout",
     "output_type": "stream",
     "text": [
      "오늘의 메뉴: 김밥\n",
      "오늘의 메뉴: 라면\n",
      "오늘의 메뉴: 튀김\n"
     ]
    }
   ],
   "source": [
    "# 142\n",
    "리스트 = [\"김밥\", \"라면\", \"튀김\"]\n",
    "\n",
    "for i in 리스트:\n",
    "    print(\"오늘의 메뉴: {}\".format(i))"
   ]
  },
  {
   "cell_type": "code",
   "execution_count": 19,
   "metadata": {},
   "outputs": [
    {
     "name": "stdout",
     "output_type": "stream",
     "text": [
      "6\n",
      "4\n",
      "4\n"
     ]
    }
   ],
   "source": [
    "# 143\n",
    "리스트 = [\"SK하이닉스\", \"삼성전자\", \"LG전자\"]\n",
    "for i in 리스트:\n",
    "    print(len(i))"
   ]
  },
  {
   "cell_type": "code",
   "execution_count": 20,
   "metadata": {
    "scrolled": true
   },
   "outputs": [
    {
     "name": "stdout",
     "output_type": "stream",
     "text": [
      "dog 3\n",
      "cat 3\n",
      "parrot 6\n"
     ]
    }
   ],
   "source": [
    "# 144\n",
    "리스트 = ['dog', 'cat', 'parrot']\n",
    "for i in 리스트:\n",
    "    print(i, len(i))"
   ]
  },
  {
   "cell_type": "code",
   "execution_count": 22,
   "metadata": {},
   "outputs": [
    {
     "name": "stdout",
     "output_type": "stream",
     "text": [
      "d\n",
      "c\n",
      "p\n"
     ]
    }
   ],
   "source": [
    "# 145\n",
    "리스트 = ['dog', 'cat', 'parrot']\n",
    "for i in 리스트:\n",
    "    print(i[0])"
   ]
  },
  {
   "cell_type": "code",
   "execution_count": 23,
   "metadata": {
    "scrolled": true
   },
   "outputs": [
    {
     "name": "stdout",
     "output_type": "stream",
     "text": [
      "3 x 1\n",
      "3 x 2\n",
      "3 x 3\n"
     ]
    }
   ],
   "source": [
    "# 146\n",
    "리스트 = [1, 2, 3]\n",
    "for i in 리스트:\n",
    "    print(\"3 x {}\".format(i))"
   ]
  },
  {
   "cell_type": "code",
   "execution_count": 24,
   "metadata": {
    "scrolled": true
   },
   "outputs": [
    {
     "name": "stdout",
     "output_type": "stream",
     "text": [
      "3 x 1 = 3\n",
      "3 x 2 = 6\n",
      "3 x 3 = 9\n"
     ]
    }
   ],
   "source": [
    "# 147\n",
    "리스트 = [1, 2, 3]\n",
    "for i in 리스트:\n",
    "    print(\"3 x {} = {}\".format(i, i*3))"
   ]
  },
  {
   "cell_type": "code",
   "execution_count": 26,
   "metadata": {},
   "outputs": [
    {
     "name": "stdout",
     "output_type": "stream",
     "text": [
      "나\n",
      "다\n",
      "라\n"
     ]
    }
   ],
   "source": [
    "# 148\n",
    "리스트 = [\"가\", \"나\", \"다\", \"라\"]\n",
    "\n",
    "for i in range(1, 4):\n",
    "    print(리스트[i])"
   ]
  },
  {
   "cell_type": "code",
   "execution_count": 27,
   "metadata": {},
   "outputs": [
    {
     "name": "stdout",
     "output_type": "stream",
     "text": [
      "가\n",
      "다\n"
     ]
    }
   ],
   "source": [
    "# 149\n",
    "리스트 = [\"가\", \"나\", \"다\", \"라\"]\n",
    "\n",
    "for i in 리스트[::2]:\n",
    "    print(i)"
   ]
  },
  {
   "cell_type": "code",
   "execution_count": 28,
   "metadata": {},
   "outputs": [
    {
     "name": "stdout",
     "output_type": "stream",
     "text": [
      "라\n",
      "다\n",
      "나\n",
      "가\n"
     ]
    }
   ],
   "source": [
    "# 150\n",
    "리스트 = [\"가\", \"나\", \"다\", \"라\"]\n",
    "\n",
    "for i in 리스트[::-1]:\n",
    "    print(i)"
   ]
  },
  {
   "cell_type": "code",
   "execution_count": 29,
   "metadata": {},
   "outputs": [
    {
     "name": "stdout",
     "output_type": "stream",
     "text": [
      "-20\n",
      "-3\n"
     ]
    }
   ],
   "source": [
    "# 151\n",
    "리스트 = [3, -20, -3, 44]\n",
    "\n",
    "for i in 리스트:\n",
    "    if i < 0:\n",
    "        print(i)\n",
    "    else:\n",
    "        pass"
   ]
  },
  {
   "cell_type": "code",
   "execution_count": 30,
   "metadata": {},
   "outputs": [
    {
     "name": "stdout",
     "output_type": "stream",
     "text": [
      "3\n"
     ]
    }
   ],
   "source": [
    "# 152\n",
    "리스트 = [3, 100, 23, 44]\n",
    "\n",
    "for i in 리스트:\n",
    "    if i % 3 == 0:\n",
    "        print(i)"
   ]
  },
  {
   "cell_type": "code",
   "execution_count": 31,
   "metadata": {},
   "outputs": [
    {
     "name": "stdout",
     "output_type": "stream",
     "text": [
      "12\n",
      "18\n"
     ]
    }
   ],
   "source": [
    "# 153\n",
    "리스트 = [13, 21, 12, 14, 30, 18]\n",
    "\n",
    "for i in 리스트:\n",
    "    if i < 20 and i % 3 == 0:\n",
    "        print(i)"
   ]
  },
  {
   "cell_type": "code",
   "execution_count": 32,
   "metadata": {},
   "outputs": [
    {
     "name": "stdout",
     "output_type": "stream",
     "text": [
      "study\n",
      "python\n",
      "language\n"
     ]
    }
   ],
   "source": [
    "# 154\n",
    "리스트 = [\"I\", \"study\", \"python\", \"language\", \"!\"]\n",
    "\n",
    "for i in 리스트:\n",
    "    if len(i) >= 3:\n",
    "        print(i)"
   ]
  },
  {
   "cell_type": "code",
   "execution_count": 34,
   "metadata": {},
   "outputs": [
    {
     "name": "stdout",
     "output_type": "stream",
     "text": [
      "A\n",
      "D\n"
     ]
    }
   ],
   "source": [
    "# 155\n",
    "리스트 = [\"A\", \"b\", \"c\", \"D\"]\n",
    "\n",
    "for i in 리스트:\n",
    "    if i.isupper():\n",
    "        print(i)"
   ]
  },
  {
   "cell_type": "code",
   "execution_count": 35,
   "metadata": {},
   "outputs": [
    {
     "name": "stdout",
     "output_type": "stream",
     "text": [
      "b\n",
      "c\n"
     ]
    }
   ],
   "source": [
    "# 156\n",
    "리스트 = [\"A\", \"b\", \"c\", \"D\"]\n",
    "\n",
    "for i in 리스트:\n",
    "    if i.islower():\n",
    "        print(i)"
   ]
  },
  {
   "cell_type": "code",
   "execution_count": 36,
   "metadata": {},
   "outputs": [
    {
     "name": "stdout",
     "output_type": "stream",
     "text": [
      "Dog\n",
      "Cat\n",
      "Parrot\n"
     ]
    }
   ],
   "source": [
    "# 157\n",
    "리스트 = ['dog', 'cat', 'parrot']\n",
    "\n",
    "for i in 리스트:\n",
    "    print(i.capitalize())"
   ]
  },
  {
   "cell_type": "code",
   "execution_count": 38,
   "metadata": {},
   "outputs": [
    {
     "name": "stdout",
     "output_type": "stream",
     "text": [
      "hello\n",
      "ex01\n",
      "intro\n"
     ]
    }
   ],
   "source": [
    "# 158\n",
    "리스트 = ['hello.py', 'ex01.py', 'intro.hwp']\n",
    "\n",
    "for i in 리스트:\n",
    "    print(i[:i.find(\".\")])"
   ]
  },
  {
   "cell_type": "code",
   "execution_count": 40,
   "metadata": {},
   "outputs": [
    {
     "name": "stdout",
     "output_type": "stream",
     "text": [
      "intra.h\n",
      "define.h\n"
     ]
    }
   ],
   "source": [
    "# 159\n",
    "리스트 = ['intra.h', 'intra.c', 'define.h', 'run.py']\n",
    "\n",
    "for i in 리스트:\n",
    "    if i[-2:] == \".h\":\n",
    "        print(i)"
   ]
  },
  {
   "cell_type": "code",
   "execution_count": 42,
   "metadata": {},
   "outputs": [
    {
     "name": "stdout",
     "output_type": "stream",
     "text": [
      "intra.h\n",
      "intra.c\n",
      "define.h\n"
     ]
    }
   ],
   "source": [
    "# 160\n",
    "# 159\n",
    "리스트 = ['intra.h', 'intra.c', 'define.h', 'run.py']\n",
    "\n",
    "for i in 리스트:\n",
    "    if i[-2:] == \".h\" or i[-2:] == \".c\":\n",
    "        print(i)"
   ]
  },
  {
   "cell_type": "code",
   "execution_count": 43,
   "metadata": {},
   "outputs": [
    {
     "name": "stdout",
     "output_type": "stream",
     "text": [
      "0\n",
      "1\n",
      "2\n",
      "3\n",
      "4\n",
      "5\n",
      "6\n",
      "7\n",
      "8\n",
      "9\n",
      "10\n",
      "11\n",
      "12\n",
      "13\n",
      "14\n",
      "15\n",
      "16\n",
      "17\n",
      "18\n",
      "19\n",
      "20\n",
      "21\n",
      "22\n",
      "23\n",
      "24\n",
      "25\n",
      "26\n",
      "27\n",
      "28\n",
      "29\n",
      "30\n",
      "31\n",
      "32\n",
      "33\n",
      "34\n",
      "35\n",
      "36\n",
      "37\n",
      "38\n",
      "39\n",
      "40\n",
      "41\n",
      "42\n",
      "43\n",
      "44\n",
      "45\n",
      "46\n",
      "47\n",
      "48\n",
      "49\n",
      "50\n",
      "51\n",
      "52\n",
      "53\n",
      "54\n",
      "55\n",
      "56\n",
      "57\n",
      "58\n",
      "59\n",
      "60\n",
      "61\n",
      "62\n",
      "63\n",
      "64\n",
      "65\n",
      "66\n",
      "67\n",
      "68\n",
      "69\n",
      "70\n",
      "71\n",
      "72\n",
      "73\n",
      "74\n",
      "75\n",
      "76\n",
      "77\n",
      "78\n",
      "79\n",
      "80\n",
      "81\n",
      "82\n",
      "83\n",
      "84\n",
      "85\n",
      "86\n",
      "87\n",
      "88\n",
      "89\n",
      "90\n",
      "91\n",
      "92\n",
      "93\n",
      "94\n",
      "95\n",
      "96\n",
      "97\n",
      "98\n",
      "99\n"
     ]
    }
   ],
   "source": [
    "# 161\n",
    "for i in range(100):\n",
    "    print(i)"
   ]
  },
  {
   "cell_type": "code",
   "execution_count": 45,
   "metadata": {},
   "outputs": [
    {
     "name": "stdout",
     "output_type": "stream",
     "text": [
      "2002\n",
      "2006\n",
      "2010\n",
      "2014\n",
      "2018\n",
      "2022\n",
      "2026\n",
      "2030\n",
      "2034\n",
      "2038\n",
      "2042\n",
      "2046\n",
      "2050\n"
     ]
    }
   ],
   "source": [
    "# 162\n",
    "\n",
    "world_cup = list(range(2002, 2051, 4))\n",
    "\n",
    "for i in world_cup:\n",
    "    print(i)"
   ]
  },
  {
   "cell_type": "code",
   "execution_count": 46,
   "metadata": {},
   "outputs": [
    {
     "name": "stdout",
     "output_type": "stream",
     "text": [
      "3\n",
      "6\n",
      "9\n",
      "12\n",
      "15\n",
      "18\n",
      "21\n",
      "24\n",
      "27\n",
      "30\n"
     ]
    }
   ],
   "source": [
    "# 163\n",
    "\n",
    "for i in range(1, 31):\n",
    "    if i % 3 == 0:\n",
    "        print(i)"
   ]
  },
  {
   "cell_type": "code",
   "execution_count": 50,
   "metadata": {},
   "outputs": [
    {
     "name": "stdout",
     "output_type": "stream",
     "text": [
      "99\n",
      "98\n",
      "97\n",
      "96\n",
      "95\n",
      "94\n",
      "93\n",
      "92\n",
      "91\n",
      "90\n",
      "89\n",
      "88\n",
      "87\n",
      "86\n",
      "85\n",
      "84\n",
      "83\n",
      "82\n",
      "81\n",
      "80\n",
      "79\n",
      "78\n",
      "77\n",
      "76\n",
      "75\n",
      "74\n",
      "73\n",
      "72\n",
      "71\n",
      "70\n",
      "69\n",
      "68\n",
      "67\n",
      "66\n",
      "65\n",
      "64\n",
      "63\n",
      "62\n",
      "61\n",
      "60\n",
      "59\n",
      "58\n",
      "57\n",
      "56\n",
      "55\n",
      "54\n",
      "53\n",
      "52\n",
      "51\n",
      "50\n",
      "49\n",
      "48\n",
      "47\n",
      "46\n",
      "45\n",
      "44\n",
      "43\n",
      "42\n",
      "41\n",
      "40\n",
      "39\n",
      "38\n",
      "37\n",
      "36\n",
      "35\n",
      "34\n",
      "33\n",
      "32\n",
      "31\n",
      "30\n",
      "29\n",
      "28\n",
      "27\n",
      "26\n",
      "25\n",
      "24\n",
      "23\n",
      "22\n",
      "21\n",
      "20\n",
      "19\n",
      "18\n",
      "17\n",
      "16\n",
      "15\n",
      "14\n",
      "13\n",
      "12\n",
      "11\n",
      "10\n",
      "9\n",
      "8\n",
      "7\n",
      "6\n",
      "5\n",
      "4\n",
      "3\n",
      "2\n",
      "1\n",
      "0\n"
     ]
    }
   ],
   "source": [
    "# 164\n",
    "minus = list(range(0,100))\n",
    "minus.reverse()\n",
    "for i in minus:\n",
    "    print(i)"
   ]
  },
  {
   "cell_type": "code",
   "execution_count": 53,
   "metadata": {},
   "outputs": [
    {
     "name": "stdout",
     "output_type": "stream",
     "text": [
      "0.0\n",
      "0.1\n",
      "0.2\n",
      "0.3\n",
      "0.4\n",
      "0.5\n",
      "0.6\n",
      "0.7\n",
      "0.8\n",
      "0.9\n"
     ]
    }
   ],
   "source": [
    "# 165\n",
    "for i in range(10):\n",
    "    print(i/10)"
   ]
  },
  {
   "cell_type": "code",
   "execution_count": 55,
   "metadata": {},
   "outputs": [
    {
     "name": "stdout",
     "output_type": "stream",
     "text": [
      "3x1 = 3\n",
      "3x2 = 6\n",
      "3x3 = 9\n",
      "3x4 = 12\n",
      "3x5 = 15\n",
      "3x6 = 18\n",
      "3x7 = 21\n",
      "3x8 = 24\n",
      "3x9 = 27\n"
     ]
    }
   ],
   "source": [
    "# 166\n",
    "for i in range(1,10):\n",
    "    print(\"3x{} = {}\".format(i, i*3))"
   ]
  },
  {
   "cell_type": "code",
   "execution_count": 57,
   "metadata": {},
   "outputs": [
    {
     "name": "stdout",
     "output_type": "stream",
     "text": [
      "3x1 = 3\n",
      "3x3 = 9\n",
      "3x5 = 15\n",
      "3x7 = 21\n",
      "3x9 = 27\n"
     ]
    }
   ],
   "source": [
    "# 167\n",
    "for i in range(1,10):\n",
    "    if i % 2 != 0:\n",
    "        print(\"3x{} = {}\".format(i, i*3))"
   ]
  },
  {
   "cell_type": "code",
   "execution_count": 59,
   "metadata": {},
   "outputs": [
    {
     "name": "stdout",
     "output_type": "stream",
     "text": [
      "55\n"
     ]
    }
   ],
   "source": [
    "# 168\n",
    "\n",
    "a = []\n",
    "\n",
    "for i in range(1, 11):\n",
    "    a.append(i)\n",
    "\n",
    "print(합 : sum(a))\n",
    "\n",
    "\"\"\"\n",
    "정답\n",
    "a = 0\n",
    "for i in ragne(1, 11):\n",
    "    a += i\n",
    "print(\"합 : \", a)\n",
    "\n",
    "\"\"\""
   ]
  },
  {
   "cell_type": "code",
   "execution_count": 62,
   "metadata": {},
   "outputs": [
    {
     "name": "stdout",
     "output_type": "stream",
     "text": [
      "합 :  25\n"
     ]
    }
   ],
   "source": [
    "# 169\n",
    "a = 0\n",
    "for i in range(1, 11):\n",
    "    if i % 2 != 0:\n",
    "        a += i\n",
    "print(\"합 : \", a)"
   ]
  },
  {
   "cell_type": "code",
   "execution_count": 63,
   "metadata": {},
   "outputs": [
    {
     "name": "stdout",
     "output_type": "stream",
     "text": [
      "3628800\n"
     ]
    }
   ],
   "source": [
    "# 170\n",
    "a = 1\n",
    "for i in range(2, 11):\n",
    "    a *= i\n",
    "print(a)"
   ]
  },
  {
   "cell_type": "code",
   "execution_count": 65,
   "metadata": {},
   "outputs": [
    {
     "name": "stdout",
     "output_type": "stream",
     "text": [
      "32100\n",
      "32150\n",
      "32000\n",
      "32500\n"
     ]
    }
   ],
   "source": [
    "# 171\n",
    "price_list = [32100, 32150, 32000, 32500]\n",
    "\n",
    "for i in range(4):\n",
    "    print(price_list[i])"
   ]
  },
  {
   "cell_type": "code",
   "execution_count": 66,
   "metadata": {},
   "outputs": [
    {
     "name": "stdout",
     "output_type": "stream",
     "text": [
      "0 32100\n",
      "1 32150\n",
      "2 32000\n",
      "3 32500\n"
     ]
    }
   ],
   "source": [
    "# 172\n",
    "price_list = [32100, 32150, 32000, 32500]\n",
    "\n",
    "for i in range(4):\n",
    "    print(i, price_list[i])"
   ]
  },
  {
   "cell_type": "code",
   "execution_count": 71,
   "metadata": {},
   "outputs": [
    {
     "name": "stdout",
     "output_type": "stream",
     "text": [
      "3 32100\n",
      "2 32150\n",
      "1 32000\n",
      "0 32500\n"
     ]
    }
   ],
   "source": [
    "# 173\n",
    "price_list = [32100, 32150, 32000, 32500]\n",
    "temp_lst = list(range(4))\n",
    "\n",
    "for i in temp_lst:\n",
    "    print(temp_lst[-(i+1)], end=\" \")\n",
    "    print(price_list[i])\n",
    "    \n",
    "# 정답\n",
    "'''\n",
    "for i in range(len(price_list)):\n",
    "    print((len(price_list) - 1) - i, price_list[i])\n",
    "'''"
   ]
  },
  {
   "cell_type": "code",
   "execution_count": 72,
   "metadata": {},
   "outputs": [
    {
     "name": "stdout",
     "output_type": "stream",
     "text": [
      "100 32150\n",
      "110 32000\n",
      "120 32500\n"
     ]
    }
   ],
   "source": [
    "# 174\n",
    "price_list = [32100, 32150, 32000, 32500]\n",
    "j = 100\n",
    "\n",
    "for i in range(1, len(price_list)):\n",
    "    print(j, price_list[i])\n",
    "    j += 10"
   ]
  },
  {
   "cell_type": "code",
   "execution_count": 73,
   "metadata": {},
   "outputs": [
    {
     "name": "stdout",
     "output_type": "stream",
     "text": [
      "가 나\n",
      "나 다\n",
      "다 라\n"
     ]
    }
   ],
   "source": [
    "# 175\n",
    "my_list = [\"가\", \"나\", \"다\", \"라\"]\n",
    "\n",
    "for i in range(3):\n",
    "    print(my_list[i], my_list[i+1])"
   ]
  },
  {
   "cell_type": "code",
   "execution_count": 75,
   "metadata": {},
   "outputs": [
    {
     "name": "stdout",
     "output_type": "stream",
     "text": [
      "가 나 다\n",
      "나 다 라\n",
      "다 라 마\n"
     ]
    }
   ],
   "source": [
    "# 176\n",
    "my_list = [\"가\", \"나\", \"다\", \"라\", \"마\"]\n",
    "\n",
    "for i in range(len(my_list)-2):\n",
    "    print(my_list[i], my_list[i+1], my_list[i+2])"
   ]
  },
  {
   "cell_type": "code",
   "execution_count": 79,
   "metadata": {},
   "outputs": [
    {
     "name": "stdout",
     "output_type": "stream",
     "text": [
      "라 다\n",
      "다 나\n",
      "나 가\n"
     ]
    }
   ],
   "source": [
    "# 177\n",
    "my_list = [\"가\", \"나\", \"다\", \"라\"]\n",
    "my_list.reverse()\n",
    "\n",
    "for i in range(len(my_list)-1):\n",
    "    print(my_list[i], my_list[i+1])\n",
    "    \n",
    "# 다른 방법\n",
    "'''\n",
    "for i in range(len(my_list) - 1, 0, -1):\n",
    "    print(my_list[i], my_list[i-1])\n",
    "'''"
   ]
  },
  {
   "cell_type": "code",
   "execution_count": 80,
   "metadata": {},
   "outputs": [
    {
     "name": "stdout",
     "output_type": "stream",
     "text": [
      "100\n",
      "200\n",
      "400\n"
     ]
    }
   ],
   "source": [
    "# 178\n",
    "my_list = [100, 200, 400, 800]\n",
    "for i in range(1, len(my_list)):\n",
    "    print(my_list[i] - my_list[i-1])"
   ]
  },
  {
   "cell_type": "code",
   "execution_count": 82,
   "metadata": {},
   "outputs": [
    {
     "name": "stdout",
     "output_type": "stream",
     "text": [
      "233.33333333333334\n",
      "466.6666666666667\n",
      "733.3333333333334\n",
      "1033.3333333333333\n"
     ]
    }
   ],
   "source": [
    "# 179 *\n",
    "my_list = [100, 200, 400, 800, 1000, 1300]\n",
    "for i in range(len(my_list) - 2):\n",
    "    sub_list = [my_list[i], my_list[i+1], my_list[i+2]]\n",
    "    print(sum(sub_list)/len(sub_list))"
   ]
  },
  {
   "cell_type": "code",
   "execution_count": 86,
   "metadata": {},
   "outputs": [
    {
     "name": "stdout",
     "output_type": "stream",
     "text": [
      "0일차 변동폭 : 50\n",
      "1일차 변동폭 : 100\n",
      "2일차 변동폭 : 30\n",
      "3일차 변동폭 : 80\n",
      "4일차 변동폭 : 0\n",
      "[50, 100, 30, 80, 0]\n"
     ]
    }
   ],
   "source": [
    "# 180\n",
    "low_prices  = [100, 200, 400, 800, 1000]\n",
    "high_prices = [150, 300, 430, 880, 1000]\n",
    "volatility = []\n",
    "for i in range(len(low_prices)):\n",
    "    vol = high_prices[i] - low_prices[i]\n",
    "    volatility.append(vol)\n",
    "    print(\"{}일차 변동폭 : {}\".format(i, vol))\n",
    "print(volatility)"
   ]
  },
  {
   "cell_type": "code",
   "execution_count": 89,
   "metadata": {},
   "outputs": [
    {
     "name": "stdout",
     "output_type": "stream",
     "text": [
      "[['101호', '102호'], ['201호', '202호'], ['301호', '302호']]\n"
     ]
    }
   ],
   "source": [
    "# 181\n",
    "\n",
    "apt_list = []\n",
    "\n",
    "for i in range(1, 4):\n",
    "    apt = [str(i)+\"01호\", str(i)+\"02호\"]\n",
    "    apt_list.append(apt)\n",
    "print(apt_list)"
   ]
  },
  {
   "cell_type": "code",
   "execution_count": 90,
   "metadata": {},
   "outputs": [
    {
     "name": "stdout",
     "output_type": "stream",
     "text": [
      "[[100, 80], [200, 210], [300, 330]]\n"
     ]
    }
   ],
   "source": [
    "# 182\n",
    "stock = [[100, 80], [200, 210], [300, 330]]\n",
    "print(stock)"
   ]
  },
  {
   "cell_type": "code",
   "execution_count": 94,
   "metadata": {},
   "outputs": [
    {
     "name": "stdout",
     "output_type": "stream",
     "text": [
      "{'시가': [100, 200, 300], '종가': [80, 210, 330]}\n"
     ]
    }
   ],
   "source": [
    "# 183\n",
    "\"\"\"\n",
    "* 문제 잘못 이해함 \n",
    "start_prices = [100, 200, 300]\n",
    "end_prices = [80, 210, 300]\n",
    "stock = dict(zip(start_prices, end_prices))\n",
    "print(stock)\n",
    "\"\"\"\n",
    "\n",
    "stock = {'시가':[100, 200, 300], '종가':[80, 210, 330]}\n",
    "print(stock)"
   ]
  },
  {
   "cell_type": "code",
   "execution_count": 95,
   "metadata": {},
   "outputs": [
    {
     "name": "stdout",
     "output_type": "stream",
     "text": [
      "{'10/10': [80, 110, 70, 90], '10/11': [210, 230, 190, 200]}\n"
     ]
    }
   ],
   "source": [
    "# 184\n",
    "stock = {\"10/10\":[80, 110, 70, 90], \"10/11\":[210, 230, 190, 200]}\n",
    "print(stock)"
   ]
  },
  {
   "cell_type": "code",
   "execution_count": 101,
   "metadata": {
    "scrolled": true
   },
   "outputs": [
    {
     "name": "stdout",
     "output_type": "stream",
     "text": [
      "101 호\n",
      "102 호\n",
      "201 호\n",
      "202 호\n",
      "301 호\n",
      "302 호\n"
     ]
    }
   ],
   "source": [
    "# 185\n",
    "apart = [ [101, 102], [201, 202], [301, 302] ]\n",
    "\n",
    "for i in range(len(apart)):\n",
    "    for j in range(len(apart) - 1):\n",
    "        print(apart[i][j], \"호\")"
   ]
  },
  {
   "cell_type": "code",
   "execution_count": 110,
   "metadata": {},
   "outputs": [
    {
     "name": "stdout",
     "output_type": "stream",
     "text": [
      "302 호\n",
      "301 호\n",
      "202 호\n",
      "201 호\n",
      "102 호\n",
      "101 호\n"
     ]
    }
   ],
   "source": [
    "# 186\n",
    "apart = [ [101, 102], [201, 202], [301, 302] ]\n",
    "for i in range(len(apart)):\n",
    "    for j in range(len(apart) - 1):\n",
    "        print(apart[len(apart) - 1 - i][len(apart) - 2 - j], \"호\")"
   ]
  },
  {
   "cell_type": "code",
   "execution_count": 113,
   "metadata": {},
   "outputs": [
    {
     "name": "stdout",
     "output_type": "stream",
     "text": [
      "301 호\n",
      "302 호\n",
      "201 호\n",
      "202 호\n",
      "101 호\n",
      "102 호\n"
     ]
    }
   ],
   "source": [
    "# 186 정답\n",
    "apart = [ [101, 102], [201, 202], [301, 302] ]\n",
    "for i in apart[::-1]: # 이렇게 하면 안에 든 리스트가 역순으로 출력됨\n",
    "    for j in i:\n",
    "        print(j, \"호\")"
   ]
  },
  {
   "cell_type": "code",
   "execution_count": 117,
   "metadata": {},
   "outputs": [
    {
     "name": "stdout",
     "output_type": "stream",
     "text": [
      "302 호\n",
      "301 호\n",
      "202 호\n",
      "201 호\n",
      "102 호\n",
      "101 호\n"
     ]
    }
   ],
   "source": [
    "# 187\n",
    "apart = [ [101, 102], [201, 202], [301, 302] ]\n",
    "for i in apart[::-1]:\n",
    "    for j in range(len(i)):\n",
    "        print(i[1 - j], \"호\")"
   ]
  },
  {
   "cell_type": "code",
   "execution_count": 119,
   "metadata": {},
   "outputs": [
    {
     "name": "stdout",
     "output_type": "stream",
     "text": [
      "302 호\n",
      "301 호\n",
      "202 호\n",
      "201 호\n",
      "102 호\n",
      "101 호\n"
     ]
    }
   ],
   "source": [
    "# 187 정답\n",
    "apart = [ [101, 102], [201, 202], [301, 302] ]\n",
    "for i in apart[::-1]:\n",
    "    for j in i[::-1]:\n",
    "        print(j, \"호\")"
   ]
  },
  {
   "cell_type": "code",
   "execution_count": 120,
   "metadata": {},
   "outputs": [
    {
     "name": "stdout",
     "output_type": "stream",
     "text": [
      "101 호\n",
      "-----\n",
      "102 호\n",
      "-----\n",
      "201 호\n",
      "-----\n",
      "202 호\n",
      "-----\n",
      "301 호\n",
      "-----\n",
      "302 호\n",
      "-----\n"
     ]
    }
   ],
   "source": [
    "# 188\n",
    "apart = [ [101, 102], [201, 202], [301, 302] ]\n",
    "\n",
    "for i in apart:\n",
    "    for j in i:\n",
    "        print(j, \"호\\n-----\")"
   ]
  },
  {
   "cell_type": "code",
   "execution_count": 121,
   "metadata": {},
   "outputs": [
    {
     "name": "stdout",
     "output_type": "stream",
     "text": [
      "101 호\n",
      "102 호\n",
      "-----\n",
      "201 호\n",
      "202 호\n",
      "-----\n",
      "301 호\n",
      "302 호\n",
      "-----\n"
     ]
    }
   ],
   "source": [
    "# 189\n",
    "apart = [ [101, 102], [201, 202], [301, 302] ]\n",
    "for i in apart:\n",
    "    for j in i:\n",
    "        print(j, \"호\")\n",
    "    print('-----')"
   ]
  },
  {
   "cell_type": "code",
   "execution_count": 124,
   "metadata": {},
   "outputs": [
    {
     "name": "stdout",
     "output_type": "stream",
     "text": [
      "101 호\n",
      "102 호\n",
      "201 호\n",
      "202 호\n",
      "301 호\n",
      "302 호\n",
      "-----\n"
     ]
    }
   ],
   "source": [
    "# 190\n",
    "apart = [ [101, 102], [201, 202], [301, 302] ]\n",
    "for i in apart:\n",
    "    for j in i:\n",
    "        print(j, \"호\")\n",
    "print('-----')"
   ]
  },
  {
   "cell_type": "code",
   "execution_count": 125,
   "metadata": {},
   "outputs": [
    {
     "name": "stdout",
     "output_type": "stream",
     "text": [
      "2000.28\n",
      "3050.427\n",
      "2050.287\n",
      "1980.2772\n",
      "7501.05\n",
      "2050.287\n",
      "2050.287\n",
      "1980.2772\n",
      "15452.163\n",
      "15052.107\n",
      "15552.177\n",
      "14902.086\n"
     ]
    }
   ],
   "source": [
    "# 191 *\n",
    "data = [\n",
    "    [ 2000,  3050,  2050,  1980],\n",
    "    [ 7500,  2050,  2050,  1980],\n",
    "    [15450, 15050, 15550, 14900]\n",
    "]\n",
    "\n",
    "for i in data:\n",
    "    for j in i:\n",
    "        print(j + j * 0.00014) # j * 1.00014 도 됨"
   ]
  },
  {
   "cell_type": "code",
   "execution_count": 126,
   "metadata": {},
   "outputs": [
    {
     "name": "stdout",
     "output_type": "stream",
     "text": [
      "2000.28\n",
      "3050.427\n",
      "2050.2870000000003\n",
      "1980.2772\n",
      "----\n",
      "7501.05\n",
      "2050.2870000000003\n",
      "2050.2870000000003\n",
      "1980.2772\n",
      "----\n",
      "15452.163\n",
      "15052.107\n",
      "15552.177\n",
      "14902.086000000001\n",
      "----\n"
     ]
    }
   ],
   "source": [
    "# 192\n",
    "data = [\n",
    "    [ 2000,  3050,  2050,  1980],\n",
    "    [ 7500,  2050,  2050,  1980],\n",
    "    [15450, 15050, 15550, 14900]\n",
    "]\n",
    "\n",
    "for i in data:\n",
    "    for j in i:\n",
    "        print(j * 1.00014)\n",
    "    print('-' * 4)"
   ]
  },
  {
   "cell_type": "code",
   "execution_count": 127,
   "metadata": {},
   "outputs": [
    {
     "name": "stdout",
     "output_type": "stream",
     "text": [
      "[2000.28, 3050.427, 2050.2870000000003, 1980.2772, 7501.05, 2050.2870000000003, 2050.2870000000003, 1980.2772, 15452.163, 15052.107, 15552.177, 14902.086000000001]\n"
     ]
    }
   ],
   "source": [
    "# 193\n",
    "data = [\n",
    "    [ 2000,  3050,  2050,  1980],\n",
    "    [ 7500,  2050,  2050,  1980],\n",
    "    [15450, 15050, 15550, 14900]\n",
    "]\n",
    "\n",
    "result = []\n",
    "\n",
    "for i in data:\n",
    "    for j in i:\n",
    "        s_result = j * 1.00014\n",
    "        result.append(s_result)\n",
    "print(result)\n",
    "    "
   ]
  },
  {
   "cell_type": "code",
   "execution_count": 128,
   "metadata": {
    "scrolled": true
   },
   "outputs": [
    {
     "name": "stdout",
     "output_type": "stream",
     "text": [
      "[[2000.28, 3050.427, 2050.2870000000003, 1980.2772], [7501.05, 2050.2870000000003, 2050.2870000000003, 1980.2772], [15452.163, 15052.107, 15552.177, 14902.086000000001]]\n"
     ]
    }
   ],
   "source": [
    "# 194 *\n",
    "data = [\n",
    "    [ 2000,  3050,  2050,  1980],\n",
    "    [ 7500,  2050,  2050,  1980],\n",
    "    [15450, 15050, 15550, 14900]\n",
    "]\n",
    "\n",
    "result = []\n",
    "\n",
    "for i in data:\n",
    "    sub = []\n",
    "    for j in i:\n",
    "        s_result = j * 1.00014\n",
    "        sub.append(s_result)\n",
    "    result.append(sub)\n",
    "print(result)"
   ]
  },
  {
   "cell_type": "code",
   "execution_count": 136,
   "metadata": {},
   "outputs": [
    {
     "name": "stdout",
     "output_type": "stream",
     "text": [
      "100\n",
      "190\n",
      "310\n"
     ]
    }
   ],
   "source": [
    "# 195 *\n",
    "ohlc = [[\"open\", \"high\", \"low\", \"close\"],\n",
    "        [100, 110, 70, 100],\n",
    "        [200, 210, 180, 190],\n",
    "        [300, 310, 300, 310]]\n",
    "\n",
    "for i in range(4):\n",
    "    if i == 0:\n",
    "        for j in range(4):\n",
    "            if ohlc[i][j] != \"close\":\n",
    "                pass\n",
    "            else:\n",
    "                end_num = j\n",
    "    else:\n",
    "        print(ohlc[i][end_num])\n",
    "            "
   ]
  },
  {
   "cell_type": "code",
   "execution_count": 137,
   "metadata": {},
   "outputs": [
    {
     "name": "stdout",
     "output_type": "stream",
     "text": [
      "190\n",
      "310\n"
     ]
    }
   ],
   "source": [
    "# 196\n",
    "ohlc = [[\"open\", \"high\", \"low\", \"close\"],\n",
    "        [100, 110, 70, 100],\n",
    "        [200, 210, 180, 190],\n",
    "        [300, 310, 300, 310]]\n",
    "\n",
    "for i in range(4):\n",
    "    if i == 0:\n",
    "        for j in range(4):\n",
    "            if ohlc[i][j] != \"close\":\n",
    "                pass\n",
    "            else:\n",
    "                end_num = j\n",
    "    else:\n",
    "        h = ohlc[i][end_num]\n",
    "        if h > 150:\n",
    "            print(h)\n",
    "            "
   ]
  },
  {
   "cell_type": "code",
   "execution_count": 139,
   "metadata": {},
   "outputs": [
    {
     "name": "stdout",
     "output_type": "stream",
     "text": [
      "100\n",
      "310\n"
     ]
    }
   ],
   "source": [
    "# 197\n",
    "ohlc = [[\"open\", \"high\", \"low\", \"close\"],\n",
    "        [100, 110, 70, 100],\n",
    "        [200, 210, 180, 190],\n",
    "        [300, 310, 300, 310]]\n",
    "\n",
    "for i in range(4):\n",
    "    if i == 0:\n",
    "        for j in range(4):\n",
    "            if ohlc[i][j] == \"open\":\n",
    "                start_num = j\n",
    "            elif ohlc[i][j] == \"close\":\n",
    "                end_num = j\n",
    "    else:\n",
    "        end_num_val = ohlc[i][end_num]\n",
    "        start_num_val = ohlc[i][start_num]\n",
    "        if end_num_val >= start_num_val:\n",
    "            print(end_num_val)"
   ]
  },
  {
   "cell_type": "code",
   "execution_count": 141,
   "metadata": {},
   "outputs": [
    {
     "name": "stdout",
     "output_type": "stream",
     "text": [
      "[40, 30, 10]\n"
     ]
    }
   ],
   "source": [
    "# 198\n",
    "ohlc = [[\"open\", \"high\", \"low\", \"close\"],\n",
    "        [100, 110, 70, 100],\n",
    "        [200, 210, 180, 190],\n",
    "        [300, 310, 300, 310]]\n",
    "\n",
    "volatility = []\n",
    "\n",
    "for i in range(4):\n",
    "    if i == 0:\n",
    "        for j in range(4):\n",
    "            if ohlc[i][j] == \"high\":\n",
    "                high_num = j\n",
    "            elif ohlc[i][j] == \"low\":\n",
    "                low_num = j\n",
    "    else:\n",
    "        high_num_val = ohlc[i][high_num]\n",
    "        low_num_val = ohlc[i][low_num]\n",
    "        vol_val = high_num_val - low_num_val\n",
    "        volatility.append(vol_val)\n",
    "print(volatility)"
   ]
  },
  {
   "cell_type": "code",
   "execution_count": 144,
   "metadata": {},
   "outputs": [
    {
     "name": "stdout",
     "output_type": "stream",
     "text": [
      "10\n"
     ]
    }
   ],
   "source": [
    "# 199\n",
    "ohlc = [[\"open\", \"high\", \"low\", \"close\"],\n",
    "        [100, 110, 70, 100],\n",
    "        [200, 210, 180, 190],\n",
    "        [300, 310, 300, 310]]\n",
    "\n",
    "for i in range(4):\n",
    "    if i == 0:\n",
    "        for j in range(4):\n",
    "            \n",
    "            if ohlc[i][j] == \"open\":\n",
    "                start_num = j\n",
    "            elif ohlc[i][j] == \"high\":\n",
    "                high_num = j\n",
    "            elif ohlc[i][j] == \"low\":\n",
    "                low_num = j\n",
    "            else:\n",
    "                end_num = j\n",
    "    else:\n",
    "        high_num_val = ohlc[i][high_num]\n",
    "        low_num_val = ohlc[i][low_num]\n",
    "        end_num_val = ohlc[i][end_num]\n",
    "        start_num_val = ohlc[i][start_num]\n",
    "        vol_val = high_num_val - low_num_val\n",
    "        if end_num_val > start_num_val:\n",
    "            print(vol_val)\n"
   ]
  },
  {
   "cell_type": "code",
   "execution_count": 145,
   "metadata": {},
   "outputs": [
    {
     "name": "stdout",
     "output_type": "stream",
     "text": [
      "0\n"
     ]
    }
   ],
   "source": [
    "# 200\n",
    "ohlc = [[\"open\", \"high\", \"low\", \"close\"],\n",
    "        [100, 110, 70, 100],\n",
    "        [200, 210, 180, 190],\n",
    "        [300, 310, 300, 310]]\n",
    "\n",
    "profit = []\n",
    "\n",
    "for i in range(4):\n",
    "    if i == 0:\n",
    "        for j in range(4):\n",
    "            if ohlc[i][j] == \"open\":\n",
    "                start_num = j\n",
    "            elif ohlc[i][j] == \"close\":\n",
    "                end_num = j\n",
    "    else:\n",
    "        end_num_val = ohlc[i][end_num]\n",
    "        start_num_val = ohlc[i][start_num]\n",
    "        profit_val = start_num_val - end_num_val\n",
    "        profit.append(profit_val)\n",
    "\n",
    "print(sum(profit))"
   ]
  }
 ],
 "metadata": {
  "kernelspec": {
   "display_name": "Python 3",
   "language": "python",
   "name": "python3"
  },
  "language_info": {
   "codemirror_mode": {
    "name": "ipython",
    "version": 3
   },
   "file_extension": ".py",
   "mimetype": "text/x-python",
   "name": "python",
   "nbconvert_exporter": "python",
   "pygments_lexer": "ipython3",
   "version": "3.8.5"
  }
 },
 "nbformat": 4,
 "nbformat_minor": 4
}
