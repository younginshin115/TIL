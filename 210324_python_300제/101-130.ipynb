{
 "cells": [
  {
   "cell_type": "code",
   "execution_count": 3,
   "metadata": {},
   "outputs": [
    {
     "name": "stdout",
     "output_type": "stream",
     "text": [
      "<class 'bool'> <class 'bool'>\n"
     ]
    }
   ],
   "source": [
    "# 101 파이썬에서 True 혹은 False를 갖는 데이터 타입은 무엇인가?\n",
    "print(type(True), type(False))"
   ]
  },
  {
   "cell_type": "code",
   "execution_count": 5,
   "metadata": {},
   "outputs": [
    {
     "name": "stdout",
     "output_type": "stream",
     "text": [
      "False\n"
     ]
    }
   ],
   "source": [
    "# 102 값확인문제\n",
    "print(3 == 5)"
   ]
  },
  {
   "cell_type": "code",
   "execution_count": 6,
   "metadata": {
    "scrolled": true
   },
   "outputs": [
    {
     "name": "stdout",
     "output_type": "stream",
     "text": [
      "True\n"
     ]
    }
   ],
   "source": [
    "# 103 값확인문제\n",
    "print(3 < 5)"
   ]
  },
  {
   "cell_type": "code",
   "execution_count": 7,
   "metadata": {
    "scrolled": true
   },
   "outputs": [
    {
     "name": "stdout",
     "output_type": "stream",
     "text": [
      "True\n"
     ]
    }
   ],
   "source": [
    "# 104 값확인문제\n",
    "x = 4\n",
    "print(1 < x < 5)"
   ]
  },
  {
   "cell_type": "code",
   "execution_count": 8,
   "metadata": {
    "scrolled": true
   },
   "outputs": [
    {
     "name": "stdout",
     "output_type": "stream",
     "text": [
      "True\n"
     ]
    }
   ],
   "source": [
    "# 105 값확인문제\n",
    "print ((3 == 3) and (4 != 3))"
   ]
  },
  {
   "cell_type": "code",
   "execution_count": 11,
   "metadata": {
    "scrolled": true
   },
   "outputs": [
    {
     "name": "stdout",
     "output_type": "stream",
     "text": [
      "False\n"
     ]
    }
   ],
   "source": [
    "# 106 값확인문제\n",
    "# print(3 => 4)\n",
    "print(3 >= 4)\n",
    "# 에러 발생 이유: 순서가 틀림"
   ]
  },
  {
   "cell_type": "code",
   "execution_count": 12,
   "metadata": {},
   "outputs": [],
   "source": [
    "# 107 값확인문제\n",
    "if 4 < 3:\n",
    "    print(\"Hello World\")"
   ]
  },
  {
   "cell_type": "code",
   "execution_count": 13,
   "metadata": {
    "scrolled": true
   },
   "outputs": [
    {
     "name": "stdout",
     "output_type": "stream",
     "text": [
      "Hi, there.\n"
     ]
    }
   ],
   "source": [
    "# 108 값확인문제\n",
    "if 4 < 3:\n",
    "    print(\"Hello World.\")\n",
    "else:\n",
    "    print(\"Hi, there.\")"
   ]
  },
  {
   "cell_type": "code",
   "execution_count": 14,
   "metadata": {},
   "outputs": [
    {
     "name": "stdout",
     "output_type": "stream",
     "text": [
      "1\n",
      "2\n",
      "4\n"
     ]
    }
   ],
   "source": [
    "# 109 값확인문제\n",
    "if True :\n",
    "    print (\"1\")\n",
    "    print (\"2\")\n",
    "else :\n",
    "    print(\"3\")\n",
    "print(\"4\")"
   ]
  },
  {
   "cell_type": "code",
   "execution_count": 15,
   "metadata": {},
   "outputs": [
    {
     "name": "stdout",
     "output_type": "stream",
     "text": [
      "3\n",
      "5\n"
     ]
    }
   ],
   "source": [
    "# 110 값확인문제\n",
    "if True :\n",
    "    if False:\n",
    "        print(\"1\")\n",
    "        print(\"2\")\n",
    "    else:\n",
    "        print(\"3\")\n",
    "else :\n",
    "    print(\"4\")\n",
    "print(\"5\")"
   ]
  },
  {
   "cell_type": "code",
   "execution_count": 17,
   "metadata": {},
   "outputs": [
    {
     "name": "stdout",
     "output_type": "stream",
     "text": [
      "안녕하세요\n",
      "안녕하세요안녕하세요\n"
     ]
    }
   ],
   "source": [
    "# 111\n",
    "a = input()\n",
    "print(a * 2)"
   ]
  },
  {
   "cell_type": "code",
   "execution_count": 19,
   "metadata": {
    "scrolled": true
   },
   "outputs": [
    {
     "name": "stdout",
     "output_type": "stream",
     "text": [
      "숫자를 입력하세요 : 30\n",
      "40\n"
     ]
    }
   ],
   "source": [
    "# 112\n",
    "a = input(\"숫자를 입력하세요 : \")\n",
    "print(int(a) + 10)"
   ]
  },
  {
   "cell_type": "code",
   "execution_count": 28,
   "metadata": {},
   "outputs": [
    {
     "name": "stdout",
     "output_type": "stream",
     "text": [
      "30\n",
      "짝수\n"
     ]
    }
   ],
   "source": [
    "# 113 *\n",
    "a = int(input())\n",
    "\n",
    "if a % 2 == 0:\n",
    "    print(\"짝수\")\n",
    "else:\n",
    "    print(\"홀수\")"
   ]
  },
  {
   "cell_type": "code",
   "execution_count": 30,
   "metadata": {
    "scrolled": true
   },
   "outputs": [
    {
     "name": "stdout",
     "output_type": "stream",
     "text": [
      "240\n",
      "255\n"
     ]
    }
   ],
   "source": [
    "# 114\n",
    "a = int(input())\n",
    "b = a + 20\n",
    "if b > 255:\n",
    "    print(255)\n",
    "else:\n",
    "    print(b)"
   ]
  },
  {
   "cell_type": "code",
   "execution_count": 34,
   "metadata": {
    "scrolled": true
   },
   "outputs": [
    {
     "name": "stdout",
     "output_type": "stream",
     "text": [
      "200\n",
      "180\n"
     ]
    }
   ],
   "source": [
    "# 115\n",
    "a = int(input())\n",
    "b = a - 20\n",
    "if b > 255:\n",
    "    print(255)\n",
    "elif b < 0:\n",
    "    print(0)\n",
    "else:\n",
    "    print(b)"
   ]
  },
  {
   "cell_type": "code",
   "execution_count": 37,
   "metadata": {},
   "outputs": [
    {
     "name": "stdout",
     "output_type": "stream",
     "text": [
      "현재시간 : 03:10\n",
      "정각이 아닙니다\n"
     ]
    }
   ],
   "source": [
    "# 116\n",
    "user_time = input(\"현재시간 : \")\n",
    "if user_time[-2:] == \"00\":\n",
    "    print(\"정각입니다\")\n",
    "else:\n",
    "    print(\"정각이 아닙니다\")"
   ]
  },
  {
   "cell_type": "code",
   "execution_count": 41,
   "metadata": {},
   "outputs": [
    {
     "name": "stdout",
     "output_type": "stream",
     "text": [
      "좋아하는 과일은? 사과\n",
      "정답입니다.\n"
     ]
    }
   ],
   "source": [
    "# 117\n",
    "fruit = [\"사과\", \"포도\", \"홍시\"]\n",
    "fav_fruit = input(\"좋아하는 과일은? \")\n",
    "if fav_fruit in fruit:\n",
    "    print(\"정답입니다.\")\n",
    "else:\n",
    "    print(\"땡! 틀렸습니다.\")"
   ]
  },
  {
   "cell_type": "code",
   "execution_count": 44,
   "metadata": {},
   "outputs": [
    {
     "name": "stdout",
     "output_type": "stream",
     "text": [
      "어느 종목에 투자하시겠습니까? : 카카오\n",
      "투자 경고 종목이 아닙니다\n"
     ]
    }
   ],
   "source": [
    "# 118\n",
    "warn_investment_list = [\"Microsoft\", \"Google\", \"Naver\", \"Kakao\", \"SAMSUNG\", \"LG\"]\n",
    "user_investment = input(\"어느 종목에 투자하시겠습니까? : \")\n",
    "if user_investment in warn_investment_list:\n",
    "    print(\"투자 경고 종목입니다\")\n",
    "else:\n",
    "    print(\"투자 경고 종목이 아닙니다\")"
   ]
  },
  {
   "cell_type": "code",
   "execution_count": 47,
   "metadata": {},
   "outputs": [
    {
     "name": "stdout",
     "output_type": "stream",
     "text": [
      "제가 좋아하는 계절은? : 봄\n",
      "정답입니다.\n"
     ]
    }
   ],
   "source": [
    "# 119\n",
    "fruit = {\"봄\" : \"딸기\", \"여름\" : \"토마토\", \"가을\" : \"사과\"}\n",
    "seasons = input(\"제가 좋아하는 계절은? : \")\n",
    "if seasons in list(fruit.keys()):\n",
    "    print(\"정답입니다.\")\n",
    "else:\n",
    "    print(\"땡! 오답입니다.\")"
   ]
  },
  {
   "cell_type": "code",
   "execution_count": 48,
   "metadata": {
    "scrolled": true
   },
   "outputs": [
    {
     "name": "stdout",
     "output_type": "stream",
     "text": [
      "제가 좋아하는 과일은? : 한라봉\n",
      "땡! 오답입니다.\n"
     ]
    }
   ],
   "source": [
    "# 120\n",
    "fruit = {\"봄\" : \"딸기\", \"여름\" : \"토마토\", \"가을\" : \"사과\"}\n",
    "fruits = input(\"제가 좋아하는 과일은? : \")\n",
    "if fruits in list(fruit.values()):\n",
    "    print(\"정답입니다.\")\n",
    "else:\n",
    "    print(\"땡! 오답입니다.\")"
   ]
  },
  {
   "cell_type": "code",
   "execution_count": 50,
   "metadata": {},
   "outputs": [
    {
     "name": "stdout",
     "output_type": "stream",
     "text": [
      "알파벳 한 글자를 입력하세요 : A\n",
      "a\n"
     ]
    }
   ],
   "source": [
    "# 121\n",
    "alphabet = input(\"알파벳 한 글자를 입력하세요 : \")\n",
    "if alphabet.islower():\n",
    "    print(alphabet.upper())\n",
    "else:\n",
    "    print(alphabet.lower())"
   ]
  },
  {
   "cell_type": "code",
   "execution_count": 57,
   "metadata": {
    "scrolled": false
   },
   "outputs": [
    {
     "name": "stdout",
     "output_type": "stream",
     "text": [
      "score : 180\n",
      "Please enter a number between 0 and 100\n",
      "score : 83\n",
      "A\n"
     ]
    }
   ],
   "source": [
    "# 122\n",
    "\n",
    "while True:\n",
    "    s_score = int(input(\"score : \"))\n",
    "    if 81 <= s_score <= 100:\n",
    "        print(\"A\")\n",
    "        break\n",
    "    elif 61 <= s_score <= 80:\n",
    "        print(\"B\")\n",
    "        break\n",
    "    elif 41 <= s_score <= 60:\n",
    "        print(\"C\")\n",
    "        break\n",
    "    elif 21 <= s_score <= 40:\n",
    "        print(\"D\")\n",
    "        break\n",
    "    elif 0 <= s_score <= 20:\n",
    "        print(\"E\")\n",
    "        break\n",
    "    else:\n",
    "        print(\"Please enter a number between 0 and 100\")"
   ]
  },
  {
   "cell_type": "code",
   "execution_count": 4,
   "metadata": {},
   "outputs": [
    {
     "name": "stdout",
     "output_type": "stream",
     "text": [
      "금액을 입력하세요 : 17 위안\n",
      "2907 원\n"
     ]
    }
   ],
   "source": [
    "# 123 *\n",
    "money = input(\"금액을 입력하세요 : \")\n",
    "money_lst = money.split(\" \")\n",
    "currency = {\"달러\":1167, \"엔\":1.096, \"유로\":1268, \"위안\":171}\n",
    "curr_key = list(currency.keys())\n",
    "curr_val = list(currency.values())\n",
    "\n",
    "i = 0\n",
    "while True:\n",
    "    if money_lst[1] == curr_key[i]:\n",
    "        total = int(money_lst[0]) *  curr_val[i]\n",
    "        print(\"{} 원\".format(total))\n",
    "        break\n",
    "    i += 1"
   ]
  },
  {
   "cell_type": "code",
   "execution_count": null,
   "metadata": {},
   "outputs": [],
   "source": [
    "# 123 해답\n",
    "환율 = {\"달러\":1167, \"엔\":1.096, \"유로\":1268, \"위안\":171}\n",
    "user = input(\"입력 : \")\n",
    "num, currency = user.split()\n",
    "print(float(num) * 환율[currency], \"원\")\n",
    "# 딕셔너리[key]로 value를 부를 수 있다는 것을 간과"
   ]
  },
  {
   "cell_type": "code",
   "execution_count": 6,
   "metadata": {},
   "outputs": [
    {
     "name": "stdout",
     "output_type": "stream",
     "text": [
      "input number1 : 10\n",
      "input number2 : 9\n",
      "input number3 : 20\n",
      "20\n"
     ]
    }
   ],
   "source": [
    "# 124\n",
    "num1 = input(\"input number1 : \")\n",
    "num2 = input(\"input number2 : \")\n",
    "num3 = input(\"input number3 : \")\n",
    "print(max(int(num1), int(num2), int(num3)))"
   ]
  },
  {
   "cell_type": "code",
   "execution_count": 7,
   "metadata": {},
   "outputs": [
    {
     "name": "stdout",
     "output_type": "stream",
     "text": [
      "휴대전화 번호 입력 : 011-345-1922\n",
      "당신은 SKT 사용자입니다.\n"
     ]
    }
   ],
   "source": [
    "# 125\n",
    "user_num = input(\"휴대전화 번호 입력 : \")\n",
    "user_num_three = user_num[:3]\n",
    "telecom = {\"011\":\"SKT\", \"016\":\"KT\", \"019\":\"LGU\", \"010\":\"알수없음\"}\n",
    "telecom_num = list(telecom.keys())\n",
    "telecom_company = list(telecom.values())\n",
    "for i in range(3):\n",
    "    if user_num_three == telecom_num[i]:\n",
    "        print(\"당신은 {} 사용자입니다.\".format(telecom_company[i]))\n",
    "    else:\n",
    "        pass\n"
   ]
  },
  {
   "cell_type": "code",
   "execution_count": 7,
   "metadata": {},
   "outputs": [
    {
     "name": "stdout",
     "output_type": "stream",
     "text": [
      "우편번호 : 01400\n",
      "도봉구\n"
     ]
    }
   ],
   "source": [
    "#126\n",
    "postal = input(\"우편번호 : \")\n",
    "postal_local = postal[:3]\n",
    "gang = [\"011\", \"011\", \"012\"]\n",
    "do = [\"013\", \"014\", \"015\"]\n",
    "no = [\"016\", \"017\", \"018\", \"019\"]\n",
    "\n",
    "if postal_local in  gang:\n",
    "    print(\"강북구\")\n",
    "elif postal_local in do:\n",
    "    print(\"도봉구\")\n",
    "elif postal_local in no:\n",
    "    print(\"노원구\")\n",
    "else:\n",
    "    print(\"숫자를 입력하세요\")"
   ]
  },
  {
   "cell_type": "code",
   "execution_count": 10,
   "metadata": {},
   "outputs": [
    {
     "name": "stdout",
     "output_type": "stream",
     "text": [
      "주민등록번호 : 821010-1635210\n",
      "남자\n"
     ]
    }
   ],
   "source": [
    "# 127\n",
    "id_num = input(\"주민등록번호 : \")\n",
    "male = [1, 3]\n",
    "female = [2, 4]\n",
    "id_num_d = int(id_num[7])\n",
    "\n",
    "if id_num_d in male:\n",
    "    print(\"남자\")\n",
    "elif id_num_d in female:\n",
    "    print(\"여자\")"
   ]
  },
  {
   "cell_type": "code",
   "execution_count": 16,
   "metadata": {},
   "outputs": [
    {
     "name": "stdout",
     "output_type": "stream",
     "text": [
      "주민등록번호 : 861010-1015210\n",
      "서울입니다.\n"
     ]
    }
   ],
   "source": [
    "# 128\n",
    "id_local = input(\"주민등록번호 : \")\n",
    "seoul = []\n",
    "for i in range(9):\n",
    "    seoul.append(\"0\" + str(i))\n",
    "busan = []\n",
    "for i in range(9, 13):\n",
    "    if i == 9:\n",
    "        busan.append(\"0\" + str(i))\n",
    "    else:\n",
    "        busan.append(str(i))\n",
    "        \n",
    "if id_local[8:10] in seoul:\n",
    "    print(\"서울입니다.\")\n",
    "elif id_local[8:10] in busan:\n",
    "    print(\"부산입니다.\")\n",
    "else:\n",
    "    print(\"서울이나 부산이 아닙니다.\")"
   ]
  },
  {
   "cell_type": "code",
   "execution_count": 38,
   "metadata": {},
   "outputs": [
    {
     "name": "stdout",
     "output_type": "stream",
     "text": [
      "주민등록번호 : 821010-1635210\n",
      "유효하지 않은 주민등록번호입니다.\n"
     ]
    }
   ],
   "source": [
    "# 129\n",
    "id_val = input(\"주민등록번호 : \")\n",
    "val_num = 2\n",
    "id_vals = []\n",
    "\n",
    "for i in range(13):\n",
    "    if i == 6:\n",
    "        pass\n",
    "    else:\n",
    "        a = int(id_val[i]) * val_num\n",
    "        id_vals.append(a)\n",
    "        if val_num < 9:\n",
    "            val_num += 1\n",
    "        else:\n",
    "            val_num = 2\n",
    "last_num = 11 - (sum(id_vals) % 11)\n",
    "\n",
    "if int(id_val[13]) == last_num:\n",
    "    print(\"유효한 주민등록번호입니다.\")\n",
    "else:\n",
    "    print(\"유효하지 않은 주민등록번호입니다.\")\n"
   ]
  },
  {
   "cell_type": "code",
   "execution_count": 42,
   "metadata": {},
   "outputs": [
    {
     "name": "stdout",
     "output_type": "stream",
     "text": [
      "상승장\n"
     ]
    }
   ],
   "source": [
    "# 130\n",
    "import requests\n",
    "btc = requests.get(\"https://api.bithumb.com/public/ticker/\").json()['data']\n",
    "gap = int(btc['max_price']) - int(btc['min_price'])\n",
    "creteria = int(btc['opening_price']) + gap\n",
    "\n",
    "if creteria > int(btc['max_price']):\n",
    "    print(\"상승장\")\n",
    "else:\n",
    "    print(\"하락장\")"
   ]
  }
 ],
 "metadata": {
  "kernelspec": {
   "display_name": "Python 3",
   "language": "python",
   "name": "python3"
  },
  "language_info": {
   "codemirror_mode": {
    "name": "ipython",
    "version": 3
   },
   "file_extension": ".py",
   "mimetype": "text/x-python",
   "name": "python",
   "nbconvert_exporter": "python",
   "pygments_lexer": "ipython3",
   "version": "3.8.5"
  }
 },
 "nbformat": 4,
 "nbformat_minor": 4
}
